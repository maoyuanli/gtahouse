{
 "cells": [
  {
   "cell_type": "code",
   "execution_count": 1,
   "metadata": {
    "pycharm": {
     "is_executing": false
    }
   },
   "outputs": [],
   "source": [
    "import re\n",
    "import pandas as pd\n",
    "pd.options.mode.chained_assignment = None\n",
    "from nltk.corpus import stopwords\n",
    "from nltk.sentiment.vader import SentimentIntensityAnalyzer\n",
    "from nltk.stem import PorterStemmer\n",
    "import string\n",
    "from datetime import datetime\n",
    "from utils.database_util import DatabaseUtil\n",
    "from matplotlib import pyplot as plt\n",
    "import seaborn as sns\n",
    "import quandl\n",
    "from sklearn import preprocessing\n",
    "%matplotlib inline\n",
    "pd.options.display.float_format = '{:,.0f}'.format"
   ]
  },
  {
   "cell_type": "markdown",
   "metadata": {
    "pycharm": {}
   },
   "source": [
    "# Data Cleaning"
   ]
  },
  {
   "cell_type": "code",
   "execution_count": 2,
   "metadata": {
    "pycharm": {
     "is_executing": false
    }
   },
   "outputs": [],
   "source": [
    "# connect to the sqlite3 db file, utilizing the customized module\n",
    "DBUtil = DatabaseUtil()\n",
    "conn = DBUtil.get_conn()"
   ]
  },
  {
   "cell_type": "markdown",
   "metadata": {},
   "source": [
    "* clean tweets data"
   ]
  },
  {
   "cell_type": "code",
   "execution_count": 3,
   "metadata": {
    "pycharm": {
     "is_executing": false
    }
   },
   "outputs": [],
   "source": [
    "df_t = pd.read_sql('select * from tweets', conn)"
   ]
  },
  {
   "cell_type": "code",
   "execution_count": 4,
   "metadata": {},
   "outputs": [
    {
     "data": {
      "text/html": [
       "<div>\n",
       "<style scoped>\n",
       "    .dataframe tbody tr th:only-of-type {\n",
       "        vertical-align: middle;\n",
       "    }\n",
       "\n",
       "    .dataframe tbody tr th {\n",
       "        vertical-align: top;\n",
       "    }\n",
       "\n",
       "    .dataframe thead th {\n",
       "        text-align: right;\n",
       "    }\n",
       "</style>\n",
       "<table border=\"1\" class=\"dataframe\">\n",
       "  <thead>\n",
       "    <tr style=\"text-align: right;\">\n",
       "      <th></th>\n",
       "      <th>id</th>\n",
       "      <th>author</th>\n",
       "      <th>tweet</th>\n",
       "      <th>time</th>\n",
       "      <th>type</th>\n",
       "    </tr>\n",
       "  </thead>\n",
       "  <tbody>\n",
       "    <tr>\n",
       "      <th>24800</th>\n",
       "      <td>1115274164330475522</td>\n",
       "      <td>CREA_ACI</td>\n",
       "      <td>@KeenerRemax Thanks for joining us at #CREAAGM!</td>\n",
       "      <td>2019-04-08 15:24:16</td>\n",
       "      <td>realtor</td>\n",
       "    </tr>\n",
       "    <tr>\n",
       "      <th>31534</th>\n",
       "      <td>1126117668640251906</td>\n",
       "      <td>MarketWatch</td>\n",
       "      <td>Stocks extend losses as U.S.-China trade spat ...</td>\n",
       "      <td>2019-05-08 13:32:29</td>\n",
       "      <td>biznews</td>\n",
       "    </tr>\n",
       "    <tr>\n",
       "      <th>29391</th>\n",
       "      <td>1124765898311708673</td>\n",
       "      <td>BNNBloomberg</td>\n",
       "      <td>'Not the right time' to take canola dispute to...</td>\n",
       "      <td>2019-05-04 20:01:01</td>\n",
       "      <td>biznews</td>\n",
       "    </tr>\n",
       "    <tr>\n",
       "      <th>39533</th>\n",
       "      <td>1128378961304653825</td>\n",
       "      <td>TheEconomist</td>\n",
       "      <td>Brexit is unlikely to make measurable progress...</td>\n",
       "      <td>2019-05-14 19:18:03</td>\n",
       "      <td>biznews</td>\n",
       "    </tr>\n",
       "    <tr>\n",
       "      <th>3220</th>\n",
       "      <td>740895124813549570</td>\n",
       "      <td>HOMESPublishing</td>\n",
       "      <td>https://t.co/2hify0AYty</td>\n",
       "      <td>2016-06-09 13:15:37</td>\n",
       "      <td>realtor</td>\n",
       "    </tr>\n",
       "  </tbody>\n",
       "</table>\n",
       "</div>"
      ],
      "text/plain": [
       "                        id           author  \\\n",
       "24800  1115274164330475522         CREA_ACI   \n",
       "31534  1126117668640251906      MarketWatch   \n",
       "29391  1124765898311708673     BNNBloomberg   \n",
       "39533  1128378961304653825     TheEconomist   \n",
       "3220    740895124813549570  HOMESPublishing   \n",
       "\n",
       "                                                   tweet                 time  \\\n",
       "24800    @KeenerRemax Thanks for joining us at #CREAAGM!  2019-04-08 15:24:16   \n",
       "31534  Stocks extend losses as U.S.-China trade spat ...  2019-05-08 13:32:29   \n",
       "29391  'Not the right time' to take canola dispute to...  2019-05-04 20:01:01   \n",
       "39533  Brexit is unlikely to make measurable progress...  2019-05-14 19:18:03   \n",
       "3220                             https://t.co/2hify0AYty  2016-06-09 13:15:37   \n",
       "\n",
       "          type  \n",
       "24800  realtor  \n",
       "31534  biznews  \n",
       "29391  biznews  \n",
       "39533  biznews  \n",
       "3220   realtor  "
      ]
     },
     "execution_count": 4,
     "metadata": {},
     "output_type": "execute_result"
    }
   ],
   "source": [
    "# tweets df before cleaning\n",
    "df_t.sample(5)"
   ]
  },
  {
   "cell_type": "code",
   "execution_count": 5,
   "metadata": {
    "pycharm": {
     "is_executing": false
    }
   },
   "outputs": [],
   "source": [
    "# twitter text processing and cleaning function\n",
    "def process_words(raw, remove_punc=False, stem=False):\n",
    "    link_pattern = [\n",
    "        r'(http|https)://[a-zA-Z0-9\\./]*\\s',\n",
    "        r'\\s+(http|https)://[a-zA-Z0-9\\./]*\\s',\n",
    "        r'\\s+(http|https)://[a-zA-Z0-9\\./]*$',\n",
    "    ]\n",
    "    clean = raw.lower().strip()\n",
    "    for ptn in link_pattern:\n",
    "        clean = re.sub(ptn, '', clean)\n",
    "    if remove_punc:\n",
    "        nopunc = [c for c in clean if c not in string.punctuation]\n",
    "        raw = ''.join(nopunc)\n",
    "\n",
    "    stopwords_list = []\n",
    "    stopwords_list_en = set(stopwords.words('english'))\n",
    "    stopwords_list_fr = set(stopwords.words('french'))\n",
    "    stopwords_list.extend(stopwords_list_en)\n",
    "    stopwords_list.extend(stopwords_list_fr)\n",
    "   \n",
    "    nostop = [w for w in raw.split() if w.lower() not in stopwords_list]\n",
    "    if stem:\n",
    "        stemmer = PorterStemmer()\n",
    "        return ' '.join([stemmer.stem(t) for t in nostop])\n",
    "    else:\n",
    "        return ' '.join(nostop)"
   ]
  },
  {
   "cell_type": "code",
   "execution_count": 6,
   "metadata": {
    "pycharm": {
     "is_executing": false
    }
   },
   "outputs": [],
   "source": [
    "df_t['tweet_clean'] = df_t['tweet'].apply(lambda t: process_words(t, remove_punc=True))\n",
    "# transform tweet timestamp from string format to datetime\n",
    "df_t['date'] = df_t['time'].apply(lambda t: re.findall('\\d\\d\\d\\d-\\d\\d-\\d\\d',t)[0])\n",
    "df_t['date'] = df_t['date'].apply(lambda s: datetime.strptime(s,'%Y-%m-%d'))\n",
    "df_t.drop(['time','tweet'],axis = 1, inplace=True)"
   ]
  },
  {
   "cell_type": "code",
   "execution_count": 7,
   "metadata": {
    "pycharm": {
     "is_executing": false
    }
   },
   "outputs": [
    {
     "data": {
      "text/html": [
       "<div>\n",
       "<style scoped>\n",
       "    .dataframe tbody tr th:only-of-type {\n",
       "        vertical-align: middle;\n",
       "    }\n",
       "\n",
       "    .dataframe tbody tr th {\n",
       "        vertical-align: top;\n",
       "    }\n",
       "\n",
       "    .dataframe thead th {\n",
       "        text-align: right;\n",
       "    }\n",
       "</style>\n",
       "<table border=\"1\" class=\"dataframe\">\n",
       "  <thead>\n",
       "    <tr style=\"text-align: right;\">\n",
       "      <th></th>\n",
       "      <th>id</th>\n",
       "      <th>author</th>\n",
       "      <th>type</th>\n",
       "      <th>tweet_clean</th>\n",
       "      <th>date</th>\n",
       "    </tr>\n",
       "  </thead>\n",
       "  <tbody>\n",
       "    <tr>\n",
       "      <th>10944</th>\n",
       "      <td>994565284857032704</td>\n",
       "      <td>BuzzBuzzHome</td>\n",
       "      <td>realtor</td>\n",
       "      <td>9 selfcare tips make home stressfree zone home...</td>\n",
       "      <td>2018-05-10</td>\n",
       "    </tr>\n",
       "    <tr>\n",
       "      <th>39016</th>\n",
       "      <td>1128315283322568706</td>\n",
       "      <td>zerohedge</td>\n",
       "      <td>biznews</td>\n",
       "      <td>burnout nation</td>\n",
       "      <td>2019-05-14</td>\n",
       "    </tr>\n",
       "    <tr>\n",
       "      <th>25259</th>\n",
       "      <td>1116276343497355265</td>\n",
       "      <td>globebusiness</td>\n",
       "      <td>biznews</td>\n",
       "      <td>subscribers thursday’s insider report three st...</td>\n",
       "      <td>2019-04-11</td>\n",
       "    </tr>\n",
       "    <tr>\n",
       "      <th>28051</th>\n",
       "      <td>1123198808169549824</td>\n",
       "      <td>BNNBloomberg</td>\n",
       "      <td>biznews</td>\n",
       "      <td>china sentences second canadian death drug cha...</td>\n",
       "      <td>2019-04-30</td>\n",
       "    </tr>\n",
       "    <tr>\n",
       "      <th>34023</th>\n",
       "      <td>1126893018773114886</td>\n",
       "      <td>DacostaJohn</td>\n",
       "      <td>search</td>\n",
       "      <td>toronto’s housing market entered busy spring p...</td>\n",
       "      <td>2019-05-10</td>\n",
       "    </tr>\n",
       "  </tbody>\n",
       "</table>\n",
       "</div>"
      ],
      "text/plain": [
       "                        id         author     type  \\\n",
       "10944   994565284857032704   BuzzBuzzHome  realtor   \n",
       "39016  1128315283322568706      zerohedge  biznews   \n",
       "25259  1116276343497355265  globebusiness  biznews   \n",
       "28051  1123198808169549824   BNNBloomberg  biznews   \n",
       "34023  1126893018773114886    DacostaJohn   search   \n",
       "\n",
       "                                             tweet_clean       date  \n",
       "10944  9 selfcare tips make home stressfree zone home... 2018-05-10  \n",
       "39016                                     burnout nation 2019-05-14  \n",
       "25259  subscribers thursday’s insider report three st... 2019-04-11  \n",
       "28051  china sentences second canadian death drug cha... 2019-04-30  \n",
       "34023  toronto’s housing market entered busy spring p... 2019-05-10  "
      ]
     },
     "execution_count": 7,
     "metadata": {},
     "output_type": "execute_result"
    }
   ],
   "source": [
    "# tweets df after cleaning\n",
    "df_t.sample(5)"
   ]
  },
  {
   "cell_type": "code",
   "execution_count": 8,
   "metadata": {},
   "outputs": [],
   "source": [
    "# subsetting the dataframe, grouping by tweets categories\n",
    "news = df_t[df_t['type'] == 'biznews']\n",
    "realtor = df_t[df_t['type'] == 'realtor']\n",
    "searched = df_t[df_t['type'] == 'search']"
   ]
  },
  {
   "cell_type": "markdown",
   "metadata": {},
   "source": [
    "* clean web data"
   ]
  },
  {
   "cell_type": "code",
   "execution_count": 9,
   "metadata": {},
   "outputs": [],
   "source": [
    "df_praw = pd.read_sql('select * from realmaster', conn)"
   ]
  },
  {
   "cell_type": "code",
   "execution_count": 10,
   "metadata": {},
   "outputs": [
    {
     "data": {
      "text/html": [
       "<div>\n",
       "<style scoped>\n",
       "    .dataframe tbody tr th:only-of-type {\n",
       "        vertical-align: middle;\n",
       "    }\n",
       "\n",
       "    .dataframe tbody tr th {\n",
       "        vertical-align: top;\n",
       "    }\n",
       "\n",
       "    .dataframe thead th {\n",
       "        text-align: right;\n",
       "    }\n",
       "</style>\n",
       "<table border=\"1\" class=\"dataframe\">\n",
       "  <thead>\n",
       "    <tr style=\"text-align: right;\">\n",
       "      <th></th>\n",
       "      <th>listID</th>\n",
       "      <th>address</th>\n",
       "      <th>ask</th>\n",
       "      <th>city</th>\n",
       "      <th>proptype</th>\n",
       "    </tr>\n",
       "  </thead>\n",
       "  <tbody>\n",
       "    <tr>\n",
       "      <th>987</th>\n",
       "      <td>N4446199</td>\n",
       "      <td>326 John St Markham Ontario L3T0B1</td>\n",
       "      <td>649000</td>\n",
       "      <td>Markham</td>\n",
       "      <td>Townhouse</td>\n",
       "    </tr>\n",
       "    <tr>\n",
       "      <th>2798</th>\n",
       "      <td>W4442327</td>\n",
       "      <td>136 Cabana Dr Toronto Ontario M9L 1K9</td>\n",
       "      <td>729000</td>\n",
       "      <td>Toronto</td>\n",
       "      <td>Semi-Detached</td>\n",
       "    </tr>\n",
       "    <tr>\n",
       "      <th>335</th>\n",
       "      <td>30728423</td>\n",
       "      <td>111    1830 Walkers Line Burlington Ontario L7...</td>\n",
       "      <td>429990</td>\n",
       "      <td>Burlington</td>\n",
       "      <td>Apartment</td>\n",
       "    </tr>\n",
       "    <tr>\n",
       "      <th>2081</th>\n",
       "      <td>30722933</td>\n",
       "      <td>41 NORTH FORSTER PARK Drive Oakville Ontario L...</td>\n",
       "      <td>1225000</td>\n",
       "      <td>Oakville</td>\n",
       "      <td>Bungalow</td>\n",
       "    </tr>\n",
       "    <tr>\n",
       "      <th>1526</th>\n",
       "      <td>W4448516</td>\n",
       "      <td>7430 Copenhagen Rd Mississauga Ontario L5N2C4</td>\n",
       "      <td>549800</td>\n",
       "      <td>Mississauga</td>\n",
       "      <td>Townhouse</td>\n",
       "    </tr>\n",
       "  </tbody>\n",
       "</table>\n",
       "</div>"
      ],
      "text/plain": [
       "        listID                                            address      ask  \\\n",
       "987   N4446199                 326 John St Markham Ontario L3T0B1   649000   \n",
       "2798  W4442327              136 Cabana Dr Toronto Ontario M9L 1K9   729000   \n",
       "335   30728423  111    1830 Walkers Line Burlington Ontario L7...   429990   \n",
       "2081  30722933  41 NORTH FORSTER PARK Drive Oakville Ontario L...  1225000   \n",
       "1526  W4448516      7430 Copenhagen Rd Mississauga Ontario L5N2C4   549800   \n",
       "\n",
       "             city       proptype  \n",
       "987       Markham      Townhouse  \n",
       "2798      Toronto  Semi-Detached  \n",
       "335    Burlington      Apartment  \n",
       "2081     Oakville       Bungalow  \n",
       "1526  Mississauga      Townhouse  "
      ]
     },
     "execution_count": 10,
     "metadata": {},
     "output_type": "execute_result"
    }
   ],
   "source": [
    "# web df before cleaning\n",
    "df_praw.sample(5)"
   ]
  },
  {
   "cell_type": "code",
   "execution_count": 11,
   "metadata": {},
   "outputs": [],
   "source": [
    "def get_postal(s):\n",
    "    p = re.findall('[A-Z]\\d[A-Z]\\s?\\d[A-Z]\\d',s)\n",
    "    if len(p) > 0:\n",
    "        return p[0].replace(' ','')\n",
    "    else:\n",
    "        return None"
   ]
  },
  {
   "cell_type": "code",
   "execution_count": 12,
   "metadata": {},
   "outputs": [],
   "source": [
    "df_p = df_praw.copy()"
   ]
  },
  {
   "cell_type": "code",
   "execution_count": 13,
   "metadata": {},
   "outputs": [],
   "source": [
    "# spin out postal code\n",
    "df_p['postal'] = df_p['address'].apply(lambda a: get_postal(a))"
   ]
  },
  {
   "cell_type": "code",
   "execution_count": 14,
   "metadata": {},
   "outputs": [],
   "source": [
    "# clean city name ('Richmond%20Hill')\n",
    "df_p['city'] = df_p['city'].apply(lambda c:c.replace('%20',' '))"
   ]
  },
  {
   "cell_type": "code",
   "execution_count": 15,
   "metadata": {},
   "outputs": [],
   "source": [
    "# spin street address out of original raw format\n",
    "def spin_address(df,col1,col2):\n",
    "    df['bind'] = df[[col1,col2]].apply(tuple,axis=1)\n",
    "    df['street'] = df['bind'].apply(lambda t: t[0].split(t[1])[0])\n",
    "    new_df = df[['listID','proptype','ask','street','city','postal']]\n",
    "    return new_df"
   ]
  },
  {
   "cell_type": "code",
   "execution_count": 16,
   "metadata": {},
   "outputs": [],
   "source": [
    "df_p = spin_address(df_p,'address','city')"
   ]
  },
  {
   "cell_type": "code",
   "execution_count": 17,
   "metadata": {},
   "outputs": [
    {
     "data": {
      "text/html": [
       "<div>\n",
       "<style scoped>\n",
       "    .dataframe tbody tr th:only-of-type {\n",
       "        vertical-align: middle;\n",
       "    }\n",
       "\n",
       "    .dataframe tbody tr th {\n",
       "        vertical-align: top;\n",
       "    }\n",
       "\n",
       "    .dataframe thead th {\n",
       "        text-align: right;\n",
       "    }\n",
       "</style>\n",
       "<table border=\"1\" class=\"dataframe\">\n",
       "  <thead>\n",
       "    <tr style=\"text-align: right;\">\n",
       "      <th></th>\n",
       "      <th>listID</th>\n",
       "      <th>proptype</th>\n",
       "      <th>ask</th>\n",
       "      <th>street</th>\n",
       "      <th>city</th>\n",
       "      <th>postal</th>\n",
       "    </tr>\n",
       "  </thead>\n",
       "  <tbody>\n",
       "    <tr>\n",
       "      <th>3361</th>\n",
       "      <td>N4427621</td>\n",
       "      <td>Apartment</td>\n",
       "      <td>779000</td>\n",
       "      <td>7250 Yonge St</td>\n",
       "      <td>Vaughan</td>\n",
       "      <td>L4J7X1</td>\n",
       "    </tr>\n",
       "    <tr>\n",
       "      <th>1565</th>\n",
       "      <td>W4433691</td>\n",
       "      <td>Bungalow</td>\n",
       "      <td>1149900</td>\n",
       "      <td>3338 Riverspray Cres</td>\n",
       "      <td>Mississauga</td>\n",
       "      <td>L4Y3M4</td>\n",
       "    </tr>\n",
       "    <tr>\n",
       "      <th>515</th>\n",
       "      <td>X4072469</td>\n",
       "      <td>Detached</td>\n",
       "      <td>1499000</td>\n",
       "      <td>1079 #8 Highway</td>\n",
       "      <td>Hamilton</td>\n",
       "      <td>L9H5E1</td>\n",
       "    </tr>\n",
       "    <tr>\n",
       "      <th>3367</th>\n",
       "      <td>N4448616</td>\n",
       "      <td>Apartment</td>\n",
       "      <td>465000</td>\n",
       "      <td>9085 Jane St</td>\n",
       "      <td>Vaughan</td>\n",
       "      <td>None</td>\n",
       "    </tr>\n",
       "    <tr>\n",
       "      <th>3338</th>\n",
       "      <td>N4450685</td>\n",
       "      <td>Detached</td>\n",
       "      <td>1199000</td>\n",
       "      <td>107 Hudson Dr</td>\n",
       "      <td>Vaughan</td>\n",
       "      <td>L6A1X4</td>\n",
       "    </tr>\n",
       "  </tbody>\n",
       "</table>\n",
       "</div>"
      ],
      "text/plain": [
       "        listID   proptype      ask                 street         city  postal\n",
       "3361  N4427621  Apartment   779000         7250 Yonge St       Vaughan  L4J7X1\n",
       "1565  W4433691   Bungalow  1149900  3338 Riverspray Cres   Mississauga  L4Y3M4\n",
       "515   X4072469   Detached  1499000       1079 #8 Highway      Hamilton  L9H5E1\n",
       "3367  N4448616  Apartment   465000          9085 Jane St       Vaughan    None\n",
       "3338  N4450685   Detached  1199000         107 Hudson Dr       Vaughan  L6A1X4"
      ]
     },
     "execution_count": 17,
     "metadata": {},
     "output_type": "execute_result"
    }
   ],
   "source": [
    "# web df after cleaning\n",
    "df_p.sample(5)"
   ]
  },
  {
   "cell_type": "markdown",
   "metadata": {
    "pycharm": {}
   },
   "source": [
    "# Exploratory Analysis"
   ]
  },
  {
   "cell_type": "markdown",
   "metadata": {},
   "source": [
    "## Sentiment"
   ]
  },
  {
   "cell_type": "code",
   "execution_count": 19,
   "metadata": {
    "pycharm": {}
   },
   "outputs": [
    {
     "data": {
      "image/png": "[encoded data removed]",
      "text/plain": [
       "<Figure size 1440x576 with 2 Axes>"
      ]
     },
     "metadata": {
      "needs_background": "light"
     },
     "output_type": "display_data"
    }
   ],
   "source": [
    "# count the number of tweets collected from each news outlet\n",
    "cntfig = plt.figure(figsize=(20,8))\n",
    "f1 = cntfig.add_subplot(121)\n",
    "f1 = news.groupby('author')['tweet_clean'].count().sort_values().plot(kind='barh')\n",
    "f2 = cntfig.add_subplot(122)\n",
    "f2 = realtor.groupby('author')['tweet_clean'].count().sort_values().plot(kind='barh')\n",
    "axes = cntfig.get_axes()\n",
    "axes[0].set_title('news')\n",
    "axes[1].set_title('realtor')\n",
    "plt.show()"
   ]
  },
  {
   "cell_type": "code",
   "execution_count": 26,
   "metadata": {},
   "outputs": [],
   "source": [
    "def find_sent(df):\n",
    "    analyzer = SentimentIntensityAnalyzer()\n",
    "    df['sentiment'] = df['tweet_clean'].apply(lambda t: analyzer.polarity_scores(t)['compound'])\n",
    "    focus = df[['author','date','tweet_clean','sentiment']]\n",
    "    focus = df[['author','date','tweet_clean','sentiment']]\n",
    "    filter_time = focus['date'] >= datetime(2018,1,1)\n",
    "    recent = focus[filter_time].set_index('date')\n",
    "    return recent"
   ]
  },
  {
   "cell_type": "code",
   "execution_count": 27,
   "metadata": {},
   "outputs": [],
   "source": [
    "news_recent = find_sent(news)\n",
    "realtor_recent = find_sent(realtor)\n",
    "searched_recent = find_sent(searched)"
   ]
  },
  {
   "cell_type": "code",
   "execution_count": 28,
   "metadata": {},
   "outputs": [],
   "source": [
    "def sent_trend(df):\n",
    "    grouper = df.groupby(pd.Grouper(freq='M'))\n",
    "    groupby_month = grouper.mean().reset_index()\n",
    "    f = plt.scatter(x=groupby_month['date'],y=groupby_month['sentiment'])\n",
    "    return f"
   ]
  },
  {
   "cell_type": "code",
   "execution_count": 29,
   "metadata": {},
   "outputs": [
    {
     "data": {
      "image/png": "[encoded data removed]",
      "text/plain": [
       "<Figure size 1440x576 with 2 Axes>"
      ]
     },
     "metadata": {
      "needs_background": "light"
     },
     "output_type": "display_data"
    }
   ],
   "source": [
    "trendfig = plt.figure(figsize=(20,8))\n",
    "fn = trendfig.add_subplot(121)\n",
    "fn = sent_trend(news_recent)\n",
    "fr = trendfig.add_subplot(122)\n",
    "fr = sent_trend(realtor_recent)\n",
    "axes = trendfig.get_axes()\n",
    "axes[0].set_title('news')\n",
    "axes[1].set_title('realtor')\n",
    "plt.show()"
   ]
  },
  {
   "cell_type": "code",
   "execution_count": 30,
   "metadata": {},
   "outputs": [],
   "source": [
    "def sent_ingroup(df):\n",
    "    groupby_author = df.groupby('author').mean().reset_index().sort_values('sentiment')\n",
    "#     f = groupby_author.plot(x='author',kind='barh', figsize = (8,6))\n",
    "    f = plt.barh(groupby_author['author'], groupby_author['sentiment'])\n",
    "    return f"
   ]
  },
  {
   "cell_type": "code",
   "execution_count": 31,
   "metadata": {},
   "outputs": [
    {
     "data": {
      "image/png": "[encoded data removed]",
      "text/plain": [
       "<Figure size 1440x576 with 2 Axes>"
      ]
     },
     "metadata": {
      "needs_background": "light"
     },
     "output_type": "display_data"
    }
   ],
   "source": [
    "groupfig = plt.figure(figsize=(20,8))\n",
    "fn = groupfig.add_subplot(121)\n",
    "fn = sent_ingroup(news_recent)\n",
    "fr = groupfig.add_subplot(122)\n",
    "fr = sent_ingroup(realtor_recent)\n",
    "axes = groupfig.get_axes()\n",
    "axes[0].set_title('news')\n",
    "axes[1].set_title('realtor')\n",
    "plt.show()"
   ]
  },
  {
   "cell_type": "markdown",
   "metadata": {},
   "source": [
    "## Price"
   ]
  },
  {
   "cell_type": "code",
   "execution_count": 32,
   "metadata": {},
   "outputs": [],
   "source": [
    "df_pg = df_p.groupby(by=['city','proptype']).median().reset_index()"
   ]
  },
  {
   "cell_type": "code",
   "execution_count": 33,
   "metadata": {},
   "outputs": [],
   "source": [
    "df_pg.columns = ['city','proptype','median_ask']"
   ]
  },
  {
   "cell_type": "code",
   "execution_count": 34,
   "metadata": {},
   "outputs": [
    {
     "data": {
      "text/html": [
       "<div>\n",
       "<style scoped>\n",
       "    .dataframe tbody tr th:only-of-type {\n",
       "        vertical-align: middle;\n",
       "    }\n",
       "\n",
       "    .dataframe tbody tr th {\n",
       "        vertical-align: top;\n",
       "    }\n",
       "\n",
       "    .dataframe thead th {\n",
       "        text-align: right;\n",
       "    }\n",
       "</style>\n",
       "<table border=\"1\" class=\"dataframe\">\n",
       "  <thead>\n",
       "    <tr style=\"text-align: right;\">\n",
       "      <th>city</th>\n",
       "      <th>Aurora</th>\n",
       "      <th>Burlington</th>\n",
       "      <th>Hamilton</th>\n",
       "      <th>Markham</th>\n",
       "      <th>Milton</th>\n",
       "      <th>Mississauga</th>\n",
       "      <th>Newmarket</th>\n",
       "      <th>Oakville</th>\n",
       "      <th>Oshawa</th>\n",
       "      <th>Pickering</th>\n",
       "      <th>Richmond Hill</th>\n",
       "      <th>Toronto</th>\n",
       "      <th>Vaughan</th>\n",
       "    </tr>\n",
       "    <tr>\n",
       "      <th>proptype</th>\n",
       "      <th></th>\n",
       "      <th></th>\n",
       "      <th></th>\n",
       "      <th></th>\n",
       "      <th></th>\n",
       "      <th></th>\n",
       "      <th></th>\n",
       "      <th></th>\n",
       "      <th></th>\n",
       "      <th></th>\n",
       "      <th></th>\n",
       "      <th></th>\n",
       "      <th></th>\n",
       "    </tr>\n",
       "  </thead>\n",
       "  <tbody>\n",
       "    <tr>\n",
       "      <th>Apartment</th>\n",
       "      <td>687,000</td>\n",
       "      <td>410,950</td>\n",
       "      <td>375,000</td>\n",
       "      <td>549,900</td>\n",
       "      <td>nan</td>\n",
       "      <td>464,950</td>\n",
       "      <td>nan</td>\n",
       "      <td>594,900</td>\n",
       "      <td>nan</td>\n",
       "      <td>nan</td>\n",
       "      <td>515,400</td>\n",
       "      <td>624,500</td>\n",
       "      <td>559,500</td>\n",
       "    </tr>\n",
       "    <tr>\n",
       "      <th>Bungalow</th>\n",
       "      <td>2,190,000</td>\n",
       "      <td>897,000</td>\n",
       "      <td>494,350</td>\n",
       "      <td>1,188,999</td>\n",
       "      <td>1,199,750</td>\n",
       "      <td>1,012,400</td>\n",
       "      <td>799,000</td>\n",
       "      <td>1,099,000</td>\n",
       "      <td>554,900</td>\n",
       "      <td>2,020,000</td>\n",
       "      <td>1,253,800</td>\n",
       "      <td>850,000</td>\n",
       "      <td>1,514,900</td>\n",
       "    </tr>\n",
       "    <tr>\n",
       "      <th>Detached</th>\n",
       "      <td>1,158,000</td>\n",
       "      <td>979,500</td>\n",
       "      <td>562,000</td>\n",
       "      <td>1,339,400</td>\n",
       "      <td>877,950</td>\n",
       "      <td>1,267,500</td>\n",
       "      <td>876,950</td>\n",
       "      <td>1,414,450</td>\n",
       "      <td>619,900</td>\n",
       "      <td>894,450</td>\n",
       "      <td>1,459,444</td>\n",
       "      <td>1,293,000</td>\n",
       "      <td>1,399,450</td>\n",
       "    </tr>\n",
       "    <tr>\n",
       "      <th>Loft</th>\n",
       "      <td>nan</td>\n",
       "      <td>nan</td>\n",
       "      <td>nan</td>\n",
       "      <td>nan</td>\n",
       "      <td>nan</td>\n",
       "      <td>nan</td>\n",
       "      <td>nan</td>\n",
       "      <td>nan</td>\n",
       "      <td>nan</td>\n",
       "      <td>nan</td>\n",
       "      <td>nan</td>\n",
       "      <td>796,000</td>\n",
       "      <td>nan</td>\n",
       "    </tr>\n",
       "    <tr>\n",
       "      <th>Semi-Detached</th>\n",
       "      <td>nan</td>\n",
       "      <td>nan</td>\n",
       "      <td>449,450</td>\n",
       "      <td>993,950</td>\n",
       "      <td>nan</td>\n",
       "      <td>772,450</td>\n",
       "      <td>nan</td>\n",
       "      <td>nan</td>\n",
       "      <td>624,450</td>\n",
       "      <td>nan</td>\n",
       "      <td>nan</td>\n",
       "      <td>899,900</td>\n",
       "      <td>864,450</td>\n",
       "    </tr>\n",
       "    <tr>\n",
       "      <th>Townhouse</th>\n",
       "      <td>790,500</td>\n",
       "      <td>599,994</td>\n",
       "      <td>517,450</td>\n",
       "      <td>799,000</td>\n",
       "      <td>599,950</td>\n",
       "      <td>666,950</td>\n",
       "      <td>722,445</td>\n",
       "      <td>789,000</td>\n",
       "      <td>459,450</td>\n",
       "      <td>519,939</td>\n",
       "      <td>876,400</td>\n",
       "      <td>704,500</td>\n",
       "      <td>859,000</td>\n",
       "    </tr>\n",
       "  </tbody>\n",
       "</table>\n",
       "</div>"
      ],
      "text/plain": [
       "city             Aurora  Burlington  Hamilton   Markham    Milton  \\\n",
       "proptype                                                            \n",
       "Apartment       687,000     410,950   375,000   549,900       nan   \n",
       "Bungalow      2,190,000     897,000   494,350 1,188,999 1,199,750   \n",
       "Detached      1,158,000     979,500   562,000 1,339,400   877,950   \n",
       "Loft                nan         nan       nan       nan       nan   \n",
       "Semi-Detached       nan         nan   449,450   993,950       nan   \n",
       "Townhouse       790,500     599,994   517,450   799,000   599,950   \n",
       "\n",
       "city           Mississauga  Newmarket  Oakville  Oshawa  Pickering  \\\n",
       "proptype                                                             \n",
       "Apartment          464,950        nan   594,900     nan        nan   \n",
       "Bungalow         1,012,400    799,000 1,099,000 554,900  2,020,000   \n",
       "Detached         1,267,500    876,950 1,414,450 619,900    894,450   \n",
       "Loft                   nan        nan       nan     nan        nan   \n",
       "Semi-Detached      772,450        nan       nan 624,450        nan   \n",
       "Townhouse          666,950    722,445   789,000 459,450    519,939   \n",
       "\n",
       "city           Richmond Hill   Toronto   Vaughan  \n",
       "proptype                                          \n",
       "Apartment            515,400   624,500   559,500  \n",
       "Bungalow           1,253,800   850,000 1,514,900  \n",
       "Detached           1,459,444 1,293,000 1,399,450  \n",
       "Loft                     nan   796,000       nan  \n",
       "Semi-Detached            nan   899,900   864,450  \n",
       "Townhouse            876,400   704,500   859,000  "
      ]
     },
     "execution_count": 34,
     "metadata": {},
     "output_type": "execute_result"
    }
   ],
   "source": [
    "df_ppivot = df_pg.pivot(index='proptype',columns='city',values='median_ask')\n",
    "df_ppivot"
   ]
  },
  {
   "cell_type": "code",
   "execution_count": 35,
   "metadata": {},
   "outputs": [
    {
     "data": {
      "image/png": "[encoded data removed]",
      "text/plain": [
       "<Figure size 864x432 with 2 Axes>"
      ]
     },
     "metadata": {
      "needs_background": "light"
     },
     "output_type": "display_data"
    }
   ],
   "source": [
    "fig, ax = plt.subplots(figsize=(12,6))\n",
    "sns_plot=sns.heatmap(data=df_ppivot,cmap=\"coolwarm\",center=df_ppivot.mean(axis=1).mean())"
   ]
  },
  {
   "cell_type": "code",
   "execution_count": 36,
   "metadata": {},
   "outputs": [
    {
     "data": {
      "text/plain": [
       "<matplotlib.axes._subplots.AxesSubplot at 0x23f19982898>"
      ]
     },
     "execution_count": 36,
     "metadata": {},
     "output_type": "execute_result"
    },
    {
     "data": {
      "image/png": "[encoded data removed]",
      "text/plain": [
       "<Figure size 1152x576 with 1 Axes>"
      ]
     },
     "metadata": {
      "needs_background": "light"
     },
     "output_type": "display_data"
    }
   ],
   "source": [
    "fig, ax = plt.subplots(figsize=(16,8))\n",
    "sns.barplot(data= df_ppivot.notnull())"
   ]
  }
 ],
 "metadata": {
  "kernelspec": {
   "display_name": "PyCharm (sentrendus)",
   "language": "python",
   "name": "pycharm-fb324cd2"
  },
  "language_info": {
   "codemirror_mode": {
    "name": "ipython",
    "version": 3
   },
   "file_extension": ".py",
   "mimetype": "text/x-python",
   "name": "python",
   "nbconvert_exporter": "python",
   "pygments_lexer": "ipython3",
   "version": "3.6.7"
  }
 },
 "nbformat": 4,
 "nbformat_minor": 2
}
