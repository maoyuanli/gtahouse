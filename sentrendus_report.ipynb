{
 "cells": [
  {
   "cell_type": "code",
   "execution_count": 8,
   "metadata": {},
   "outputs": [],
   "source": [
    "import pandas as pd\n",
    "import re"
   ]
  },
  {
   "cell_type": "code",
   "execution_count": 2,
   "metadata": {},
   "outputs": [],
   "source": [
    "from database import TweetDB"
   ]
  },
  {
   "cell_type": "code",
   "execution_count": 3,
   "metadata": {},
   "outputs": [],
   "source": [
    "tweetdb = TweetDB()"
   ]
  },
  {
   "cell_type": "code",
   "execution_count": 4,
   "metadata": {},
   "outputs": [],
   "source": [
    "engine = tweetdb.get_engine()\n",
    "conn = engine.connect()"
   ]
  },
  {
   "cell_type": "code",
   "execution_count": 5,
   "metadata": {},
   "outputs": [],
   "source": [
    "df= pd.read_sql('select * from tweets',conn)"
   ]
  },
  {
   "cell_type": "code",
   "execution_count": 6,
   "metadata": {},
   "outputs": [
    {
     "data": {
      "text/html": [
       "<div>\n",
       "<style scoped>\n",
       "    .dataframe tbody tr th:only-of-type {\n",
       "        vertical-align: middle;\n",
       "    }\n",
       "\n",
       "    .dataframe tbody tr th {\n",
       "        vertical-align: top;\n",
       "    }\n",
       "\n",
       "    .dataframe thead th {\n",
       "        text-align: right;\n",
       "    }\n",
       "</style>\n",
       "<table border=\"1\" class=\"dataframe\">\n",
       "  <thead>\n",
       "    <tr style=\"text-align: right;\">\n",
       "      <th></th>\n",
       "      <th>id</th>\n",
       "      <th>author</th>\n",
       "      <th>tweet</th>\n",
       "      <th>timestamp</th>\n",
       "    </tr>\n",
       "  </thead>\n",
       "  <tbody>\n",
       "    <tr>\n",
       "      <th>0</th>\n",
       "      <td>23114765240901633</td>\n",
       "      <td>CNNbusiness_</td>\n",
       "      <td>Oil and gold back off as dollar gains ground -...</td>\n",
       "      <td>2011-01-06 20:32:44</td>\n",
       "    </tr>\n",
       "    <tr>\n",
       "      <th>1</th>\n",
       "      <td>23129329785372673</td>\n",
       "      <td>CNNbusiness_</td>\n",
       "      <td>Verizon CEO stays silent on iPhone - Sorry, Ap...</td>\n",
       "      <td>2011-01-06 21:30:36</td>\n",
       "    </tr>\n",
       "    <tr>\n",
       "      <th>2</th>\n",
       "      <td>23161287181598721</td>\n",
       "      <td>CNNbusiness_</td>\n",
       "      <td>Facebook likely to go public in 2012 - report ...</td>\n",
       "      <td>2011-01-06 23:37:35</td>\n",
       "    </tr>\n",
       "    <tr>\n",
       "      <th>3</th>\n",
       "      <td>23176209307275264</td>\n",
       "      <td>CNNbusiness_</td>\n",
       "      <td>Rent costs half my income - Amy Merrick is a f...</td>\n",
       "      <td>2011-01-07 00:36:53</td>\n",
       "    </tr>\n",
       "    <tr>\n",
       "      <th>4</th>\n",
       "      <td>23264239858753536</td>\n",
       "      <td>CNNbusiness_</td>\n",
       "      <td>Crops, coal and steel inundated by Australia's...</td>\n",
       "      <td>2011-01-07 06:26:41</td>\n",
       "    </tr>\n",
       "  </tbody>\n",
       "</table>\n",
       "</div>"
      ],
      "text/plain": [
       "                  id        author  \\\n",
       "0  23114765240901633  CNNbusiness_   \n",
       "1  23129329785372673  CNNbusiness_   \n",
       "2  23161287181598721  CNNbusiness_   \n",
       "3  23176209307275264  CNNbusiness_   \n",
       "4  23264239858753536  CNNbusiness_   \n",
       "\n",
       "                                               tweet            timestamp  \n",
       "0  Oil and gold back off as dollar gains ground -...  2011-01-06 20:32:44  \n",
       "1  Verizon CEO stays silent on iPhone - Sorry, Ap...  2011-01-06 21:30:36  \n",
       "2  Facebook likely to go public in 2012 - report ...  2011-01-06 23:37:35  \n",
       "3  Rent costs half my income - Amy Merrick is a f...  2011-01-07 00:36:53  \n",
       "4  Crops, coal and steel inundated by Australia's...  2011-01-07 06:26:41  "
      ]
     },
     "execution_count": 6,
     "metadata": {},
     "output_type": "execute_result"
    }
   ],
   "source": [
    "df.head()"
   ]
  },
  {
   "cell_type": "code",
   "execution_count": 7,
   "metadata": {},
   "outputs": [],
   "source": [
    "link_pattern = [r'https://t.co/[a-zA-Z0-9]*\\s',r'\\s+https://t.co/[a-zA-Z0-9]*\\s',r'\\s+https://t.co/[a-zA-Z0-9]*$']"
   ]
  },
  {
   "cell_type": "code",
   "execution_count": 12,
   "metadata": {},
   "outputs": [],
   "source": [
    "def cleaner(raw):\n",
    "    link_pattern = [r'https://t.co/[a-zA-Z0-9]*\\s',r'\\s+https://t.co/[a-zA-Z0-9]*\\s',r'\\s+https://t.co/[a-zA-Z0-9]*$']\n",
    "    clean = raw.lower().strip()\n",
    "    for ptn in link_pattern:\n",
    "        clean = re.sub(ptn,'',raw)"
   ]
  },
  {
   "cell_type": "code",
   "execution_count": 13,
   "metadata": {},
   "outputs": [
    {
     "data": {
      "text/plain": [
       "'Oil and gold back off as dollar gains ground - Commodities started the year on a high note, with oil above $90 a bar... http://ow.ly/1aKT2m'"
      ]
     },
     "execution_count": 13,
     "metadata": {},
     "output_type": "execute_result"
    }
   ],
   "source": [
    "df['tweet'][0]"
   ]
  },
  {
   "cell_type": "code",
   "execution_count": 14,
   "metadata": {},
   "outputs": [],
   "source": [
    "df['tweet_clean'] = df['tweet'].apply(lambda t:cleaner(t))"
   ]
  },
  {
   "cell_type": "code",
   "execution_count": 15,
   "metadata": {},
   "outputs": [],
   "source": [
    "df['tweet_clean'][0]"
   ]
  },
  {
   "cell_type": "code",
   "execution_count": null,
   "metadata": {},
   "outputs": [],
   "source": []
  }
 ],
 "metadata": {
  "kernelspec": {
   "display_name": "Python 3",
   "language": "python",
   "name": "python3"
  },
  "language_info": {
   "codemirror_mode": {
    "name": "ipython",
    "version": 3
   },
   "file_extension": ".py",
   "mimetype": "text/x-python",
   "name": "python",
   "nbconvert_exporter": "python",
   "pygments_lexer": "ipython3",
   "version": "3.6.7"
  }
 },
 "nbformat": 4,
 "nbformat_minor": 2
}
