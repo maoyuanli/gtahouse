{
 "cells": [
  {
   "cell_type": "code",
   "execution_count": 1,
   "metadata": {
    "pycharm": {
     "is_executing": false
    }
   },
   "outputs": [],
   "source": [
    "import re\n",
    "import pandas as pd\n",
    "pd.options.mode.chained_assignment = None\n",
    "from nltk.corpus import stopwords\n",
    "from nltk.sentiment.vader import SentimentIntensityAnalyzer\n",
    "from nltk.stem import PorterStemmer\n",
    "import string\n",
    "from datetime import datetime\n",
    "from database import TweetDB\n",
    "from matplotlib import pyplot as plt\n",
    "import seaborn as sns\n",
    "import quandl\n",
    "from sklearn import preprocessing\n",
    "%matplotlib inline"
   ]
  },
  {
   "cell_type": "markdown",
   "metadata": {
    "pycharm": {}
   },
   "source": [
    "* data preparing"
   ]
  },
  {
   "cell_type": "code",
   "execution_count": 2,
   "metadata": {
    "pycharm": {
     "is_executing": false
    }
   },
   "outputs": [],
   "source": [
    "# connect to the sqlite3 db file, utilizing the customized module\n",
    "tweetdb = TweetDB()\n",
    "engine = tweetdb.get_engine()\n",
    "conn = engine.connect()"
   ]
  },
  {
   "cell_type": "code",
   "execution_count": 3,
   "metadata": {
    "pycharm": {
     "is_executing": false
    }
   },
   "outputs": [],
   "source": [
    "df = pd.read_sql('select * from tweets', conn)"
   ]
  },
  {
   "cell_type": "code",
   "execution_count": 4,
   "metadata": {
    "pycharm": {
     "is_executing": false
    }
   },
   "outputs": [],
   "source": [
    "# twitter text processing and cleaning function\n",
    "def process_words(raw, remove_punc=False, stem=False):\n",
    "    link_pattern = [\n",
    "        r'(http|https)://[a-zA-Z0-9\\./]*\\s',\n",
    "        r'\\s+(http|https)://[a-zA-Z0-9\\./]*\\s',\n",
    "        r'\\s+(http|https)://[a-zA-Z0-9\\./]*$',\n",
    "    ]\n",
    "    clean = raw.lower().strip()\n",
    "    for ptn in link_pattern:\n",
    "        clean = re.sub(ptn, '', clean)\n",
    "    if remove_punc:\n",
    "        nopunc = [c for c in clean if c not in string.punctuation]\n",
    "        raw = ''.join(nopunc)\n",
    "\n",
    "    stopwords_list = []\n",
    "    stopwords_list_en = set(stopwords.words('english'))\n",
    "    stopwords_list_fr = set(stopwords.words('french'))\n",
    "    stopwords_list.extend(stopwords_list_en)\n",
    "    stopwords_list.extend(stopwords_list_fr)\n",
    "   \n",
    "    nostop = [w for w in raw.split() if w.lower() not in stopwords_list]\n",
    "    if stem:\n",
    "        stemmer = PorterStemmer()\n",
    "        return ' '.join([stemmer.stem(t) for t in nostop])\n",
    "    else:\n",
    "        return ' '.join(nostop)"
   ]
  },
  {
   "cell_type": "code",
   "execution_count": 5,
   "metadata": {
    "pycharm": {
     "is_executing": false
    }
   },
   "outputs": [],
   "source": [
    "df['tweet_clean'] = df['tweet'].apply(lambda t: process_words(t, remove_punc=True))"
   ]
  },
  {
   "cell_type": "code",
   "execution_count": 6,
   "metadata": {
    "pycharm": {
     "is_executing": false,
     "metadata": false,
     "name": "#%%\n"
    }
   },
   "outputs": [],
   "source": [
    "# transform tweet timestamp from string format to datetime\n",
    "df['date'] = df['timestamp'].apply(lambda t: re.findall('\\d\\d\\d\\d-\\d\\d-\\d\\d',t)[0])\n",
    "df['date'] = df['date'].apply(lambda s: datetime.strptime(s,'%Y-%m-%d'))"
   ]
  },
  {
   "cell_type": "markdown",
   "metadata": {
    "pycharm": {}
   },
   "source": [
    "* Exploratory Analysis"
   ]
  },
  {
   "cell_type": "code",
   "execution_count": 7,
   "metadata": {
    "pycharm": {}
   },
   "outputs": [
    {
     "data": {
      "image/png": "[encoded data removed]",
      "text/plain": [
       "<Figure size 432x288 with 1 Axes>"
      ]
     },
     "metadata": {
      "needs_background": "light"
     },
     "output_type": "display_data"
    }
   ],
   "source": [
    "# count the number of tweets collected from each news outlet\n",
    "tweetcount = df.groupby('author')['tweet'].count().sort_values().plot(kind='barh')"
   ]
  },
  {
   "cell_type": "code",
   "execution_count": 8,
   "metadata": {
    "pycharm": {}
   },
   "outputs": [],
   "source": [
    "# initiate sentiment analyzer\n",
    "analyzer = SentimentIntensityAnalyzer()"
   ]
  },
  {
   "cell_type": "code",
   "execution_count": 9,
   "metadata": {
    "pycharm": {}
   },
   "outputs": [],
   "source": [
    "df['sentiment'] = df['tweet'].apply(lambda t: analyzer.polarity_scores(t)['compound'])"
   ]
  },
  {
   "cell_type": "code",
   "execution_count": 10,
   "metadata": {
    "pycharm": {}
   },
   "outputs": [],
   "source": [
    "focus = df[['author','date','tweet','sentiment']]"
   ]
  },
  {
   "cell_type": "code",
   "execution_count": 11,
   "metadata": {},
   "outputs": [],
   "source": [
    "# filter recent tweets\n",
    "filter_time = focus['date'] >= datetime(2018,1,1)\n",
    "recent = focus[filter_time].set_index('date')"
   ]
  },
  {
   "cell_type": "code",
   "execution_count": 12,
   "metadata": {},
   "outputs": [],
   "source": [
    "# group data by month\n",
    "grouper = recent.groupby(pd.Grouper(freq='M'))\n",
    "groupby_month = grouper.mean().reset_index()"
   ]
  },
  {
   "cell_type": "code",
   "execution_count": 13,
   "metadata": {},
   "outputs": [
    {
     "data": {
      "image/png": "[encoded data removed]",
      "text/plain": [
       "<Figure size 576x432 with 1 Axes>"
      ]
     },
     "metadata": {
      "needs_background": "light"
     },
     "output_type": "display_data"
    }
   ],
   "source": [
    "# show sentiment fluctuation of each month\n",
    "plt.figure(figsize=(8,6))\n",
    "plt.scatter(x=groupby_month['date'],y=groupby_month['sentiment'])\n",
    "plt.legend(loc='upper left')\n",
    "plt.show()"
   ]
  },
  {
   "cell_type": "code",
   "execution_count": 14,
   "metadata": {},
   "outputs": [],
   "source": [
    "# group data by tweet account\n",
    "groupby_author = recent.groupby('author').mean().reset_index().sort_values('sentiment')"
   ]
  },
  {
   "cell_type": "code",
   "execution_count": 15,
   "metadata": {},
   "outputs": [
    {
     "data": {
      "text/plain": [
       "<matplotlib.axes._subplots.AxesSubplot at 0x10bbbc64208>"
      ]
     },
     "execution_count": 15,
     "metadata": {},
     "output_type": "execute_result"
    },
    {
     "data": {
      "image/png": "[encoded data removed]",
      "text/plain": [
       "<Figure size 576x432 with 1 Axes>"
      ]
     },
     "metadata": {
      "needs_background": "light"
     },
     "output_type": "display_data"
    }
   ],
   "source": [
    "# optimitic vs pessimistic news agencies\n",
    "groupby_author.plot(x='author',kind='barh', figsize = (8,6))"
   ]
  }
 ],
 "metadata": {
  "kernelspec": {
   "display_name": "PyCharm (sentrendus)",
   "language": "python",
   "name": "pycharm-fb324cd2"
  },
  "language_info": {
   "codemirror_mode": {
    "name": "ipython",
    "version": 3
   },
   "file_extension": ".py",
   "mimetype": "text/x-python",
   "name": "python",
   "nbconvert_exporter": "python",
   "pygments_lexer": "ipython3",
   "version": "3.6.7"
  }
 },
 "nbformat": 4,
 "nbformat_minor": 2
}
