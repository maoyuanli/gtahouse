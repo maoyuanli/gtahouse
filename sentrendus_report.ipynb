{
  "cells": [
    {
      "cell_type": "code",
      "execution_count": 68,
      "metadata": {
        "pycharm": {
          "is_executing": false
        }
      },
      "outputs": [],
      "source": "import re\n# nltk.download(\u0027vader_lexicon\u0027)\nimport pandas as pd\nfrom nltk.corpus import stopwords\nfrom nltk.sentiment.vader import SentimentIntensityAnalyzer\nfrom nltk.stem import PorterStemmer\npd.options.mode.chained_assignment \u003d None\nimport string\nfrom datetime import datetime\nfrom database import TweetDB\n%matplotlib inline"
    },
    {
      "cell_type": "markdown",
      "metadata": {
        "pycharm": {}
      },
      "source": [
        "* data preparing"
      ]
    },
    {
      "cell_type": "code",
      "execution_count": 69,
      "metadata": {
        "pycharm": {
          "is_executing": false
        }
      },
      "outputs": [],
      "source": [
        "# connect to the sqlite3 db file, utilizing the customized module\n",
        "tweetdb \u003d TweetDB()\n",
        "engine \u003d tweetdb.get_engine()\n",
        "conn \u003d engine.connect()"
      ]
    },
    {
      "cell_type": "code",
      "execution_count": 70,
      "metadata": {
        "pycharm": {
          "is_executing": false
        }
      },
      "outputs": [],
      "source": [
        "df \u003d pd.read_sql(\u0027select * from tweets\u0027, conn)"
      ]
    },
    {
      "cell_type": "code",
      "execution_count": 71,
      "metadata": {
        "pycharm": {
          "is_executing": false
        }
      },
      "outputs": [],
      "source": [
        "# twitter text processing and cleaning function\n",
        "def process_words(raw, remove_punc\u003dFalse, stem\u003dFalse):\n",
        "    link_pattern \u003d [\n",
        "        r\u0027(http|https)://[a-zA-Z0-9\\./]*\\s\u0027,\n",
        "        r\u0027\\s+(http|https)://[a-zA-Z0-9\\./]*\\s\u0027,\n",
        "        r\u0027\\s+(http|https)://[a-zA-Z0-9\\./]*$\u0027,\n",
        "    ]\n",
        "    clean \u003d raw.lower().strip()\n",
        "    for ptn in link_pattern:\n",
        "        clean \u003d re.sub(ptn, \u0027\u0027, clean)\n",
        "    if remove_punc:\n",
        "        nopunc \u003d [c for c in clean if c not in string.punctuation]\n",
        "        raw \u003d \u0027\u0027.join(nopunc)\n",
        "\n",
        "    stopwords_list \u003d []\n",
        "    stopwords_list_en \u003d set(stopwords.words(\u0027english\u0027))\n",
        "    stopwords_list_fr \u003d set(stopwords.words(\u0027french\u0027))\n",
        "    stopwords_list.extend(stopwords_list_en)\n",
        "    stopwords_list.extend(stopwords_list_fr)\n",
        "   \n",
        "    nostop \u003d [w for w in raw.split() if w.lower() not in stopwords_list]\n",
        "    if stem:\n",
        "        stemmer \u003d PorterStemmer()\n",
        "        return \u0027 \u0027.join([stemmer.stem(t) for t in nostop])\n",
        "    else:\n",
        "        return \u0027 \u0027.join(nostop)"
      ]
    },
    {
      "cell_type": "code",
      "execution_count": 72,
      "metadata": {
        "pycharm": {
          "is_executing": false
        }
      },
      "outputs": [],
      "source": [
        "df[\u0027tweet_clean\u0027] \u003d df[\u0027tweet\u0027].apply(lambda t: process_words(t, remove_punc\u003dTrue))"
      ]
    },
    {
      "cell_type": "code",
      "execution_count": 73,
      "metadata": {
        "pycharm": {
          "is_executing": false,
          "metadata": false,
          "name": "#%%\n"
        }
      },
      "outputs": [],
      "source": [
        "# transform tweet timestamp from string format to datetime\n",
        "df[\u0027date\u0027] \u003d df[\u0027timestamp\u0027].apply(lambda t: re.findall(\u0027\\d\\d\\d\\d-\\d\\d-\\d\\d\u0027,t)[0])\n",
        "df[\u0027date\u0027] \u003d df[\u0027date\u0027].apply(lambda s: datetime.strptime(s,\u0027%Y-%m-%d\u0027))"
      ]
    },
    {
      "cell_type": "code",
      "execution_count": 74,
      "metadata": {
        "pycharm": {
          "is_executing": false,
          "metadata": false,
          "name": "#%%\n"
        }
      },
      "outputs": [],
      "source": [
        "# subset the recent tweets\n",
        "recent \u003d df[df[\u0027date\u0027]\u003e\u003ddatetime(2019,1,1)]"
      ]
    },
    {
      "cell_type": "code",
      "execution_count": 75,
      "metadata": {
        "pycharm": {}
      },
      "outputs": [
        {
          "data": {
            "text/plain": [
              "array([\u0027IBDinvestors\u0027, \u0027CapEconCanada\u0027, \u0027CapEconMarkets\u0027, \u0027WSJmarkets\u0027,\n",
              "       \u0027globebusiness\u0027, \u0027financialpost\u0027, \u0027barronsonline\u0027, \u0027BNNBloomberg\u0027,\n",
              "       \u0027WSJ\u0027, \u0027TheEconomist\u0027, \u0027YahooFinance\u0027, \u0027MarketWatch\u0027, \u0027FT\u0027, \u0027CNBC\u0027,\n",
              "       \u0027business\u0027, \u0027SeekingAlpha\u0027], dtype\u003dobject)"
            ]
          },
          "execution_count": 75,
          "metadata": {},
          "output_type": "execute_result"
        }
      ],
      "source": [
        "recent[\u0027author\u0027].unique()"
      ]
    },
    {
      "cell_type": "markdown",
      "metadata": {
        "pycharm": {}
      },
      "source": [
        "* Exploratory Analysis"
      ]
    },
    {
      "cell_type": "code",
      "execution_count": 76,
      "metadata": {
        "pycharm": {}
      },
      "outputs": [
        {
          "data": {
            "image/png": "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\u003d\n",
            "text/plain": [
              "\u003cFigure size 432x288 with 1 Axes\u003e"
            ]
          },
          "metadata": {
            "needs_background": "light"
          },
          "output_type": "display_data"
        }
      ],
      "source": [
        "# count the number recent tweets collected from each news outlet\n",
        "tweetcount \u003d recent.groupby(\u0027author\u0027)[\u0027tweet\u0027].count().sort_values().plot(kind\u003d\u0027barh\u0027)"
      ]
    },
    {
      "cell_type": "code",
      "execution_count": 77,
      "metadata": {
        "pycharm": {}
      },
      "outputs": [],
      "source": [
        "analyzer \u003d SentimentIntensityAnalyzer()"
      ]
    },
    {
      "cell_type": "code",
      "execution_count": 78,
      "metadata": {
        "pycharm": {}
      },
      "outputs": [
        {
          "data": {
            "text/plain": [
              "{\u0027neg\u0027: 0.0, \u0027neu\u0027: 0.385, \u0027pos\u0027: 0.615, \u0027compound\u0027: 0.4927}"
            ]
          },
          "execution_count": 78,
          "metadata": {},
          "output_type": "execute_result"
        }
      ],
      "source": [
        "analyzer.polarity_scores(r\u0027I\\\u0027m really good\u0027)"
      ]
    },
    {
      "cell_type": "code",
      "execution_count": 79,
      "metadata": {
        "pycharm": {}
      },
      "outputs": [],
      "source": [
        "recent[\u0027sentiment\u0027] \u003d recent[\u0027tweet\u0027].apply(lambda t: analyzer.polarity_scores(t)[\u0027compound\u0027])"
      ]
    },
    {
      "cell_type": "code",
      "execution_count": 80,
      "metadata": {
        "pycharm": {}
      },
      "outputs": [],
      "source": [
        "focus \u003d recent[[\u0027author\u0027,\u0027date\u0027,\u0027tweet\u0027,\u0027sentiment\u0027]]"
      ]
    },
    {
      "cell_type": "code",
      "execution_count": 81,
      "metadata": {
        "pycharm": {}
      },
      "outputs": [],
      "source": [
        "focus \u003d focus.sort_values(by\u003d\u0027sentiment\u0027)"
      ]
    },
    {
      "cell_type": "code",
      "execution_count": 82,
      "metadata": {
        "pycharm": {}
      },
      "outputs": [
        {
          "data": {
            "text/html": [
              "\u003cdiv\u003e\n",
              "\u003cstyle scoped\u003e\n",
              "    .dataframe tbody tr th:only-of-type {\n",
              "        vertical-align: middle;\n",
              "    }\n",
              "\n",
              "    .dataframe tbody tr th {\n",
              "        vertical-align: top;\n",
              "    }\n",
              "\n",
              "    .dataframe thead th {\n",
              "        text-align: right;\n",
              "    }\n",
              "\u003c/style\u003e\n",
              "\u003ctable border\u003d\"1\" class\u003d\"dataframe\"\u003e\n",
              "  \u003cthead\u003e\n",
              "    \u003ctr style\u003d\"text-align: right;\"\u003e\n",
              "      \u003cth\u003e\u003c/th\u003e\n",
              "      \u003cth\u003eauthor\u003c/th\u003e\n",
              "      \u003cth\u003edate\u003c/th\u003e\n",
              "      \u003cth\u003etweet\u003c/th\u003e\n",
              "      \u003cth\u003esentiment\u003c/th\u003e\n",
              "    \u003c/tr\u003e\n",
              "  \u003c/thead\u003e\n",
              "  \u003ctbody\u003e\n",
              "    \u003ctr\u003e\n",
              "      \u003cth\u003e11108\u003c/th\u003e\n",
              "      \u003ctd\u003ebusiness\u003c/td\u003e\n",
              "      \u003ctd\u003e2019-05-02\u003c/td\u003e\n",
              "      \u003ctd\u003eCalifornia man who Tesla accused of spying and...\u003c/td\u003e\n",
              "      \u003ctd\u003e-0.9623\u003c/td\u003e\n",
              "    \u003c/tr\u003e\n",
              "    \u003ctr\u003e\n",
              "      \u003cth\u003e7594\u003c/th\u003e\n",
              "      \u003ctd\u003eTheEconomist\u003c/td\u003e\n",
              "      \u003ctd\u003e2019-04-28\u003c/td\u003e\n",
              "      \u003ctd\u003eIt is not unusual for Indian politicians to st...\u003c/td\u003e\n",
              "      \u003ctd\u003e-0.9545\u003c/td\u003e\n",
              "    \u003c/tr\u003e\n",
              "    \u003ctr\u003e\n",
              "      \u003cth\u003e13673\u003c/th\u003e\n",
              "      \u003ctd\u003eTheEconomist\u003c/td\u003e\n",
              "      \u003ctd\u003e2019-05-03\u003c/td\u003e\n",
              "      \u003ctd\u003eFor years, YouTube avoided the type of ire dir...\u003c/td\u003e\n",
              "      \u003ctd\u003e-0.9337\u003c/td\u003e\n",
              "    \u003c/tr\u003e\n",
              "    \u003ctr\u003e\n",
              "      \u003cth\u003e14448\u003c/th\u003e\n",
              "      \u003ctd\u003eWSJ\u003c/td\u003e\n",
              "      \u003ctd\u003e2019-05-03\u003c/td\u003e\n",
              "      \u003ctd\u003eA terror attack in San Bernardino, Calif., fea...\u003c/td\u003e\n",
              "      \u003ctd\u003e-0.9295\u003c/td\u003e\n",
              "    \u003c/tr\u003e\n",
              "    \u003ctr\u003e\n",
              "      \u003cth\u003e8813\u003c/th\u003e\n",
              "      \u003ctd\u003eWSJ\u003c/td\u003e\n",
              "      \u003ctd\u003e2019-04-30\u003c/td\u003e\n",
              "      \u003ctd\u003eAt least one suicide bomber in the Easter atta...\u003c/td\u003e\n",
              "      \u003ctd\u003e-0.9287\u003c/td\u003e\n",
              "    \u003c/tr\u003e\n",
              "    \u003ctr\u003e\n",
              "      \u003cth\u003e9882\u003c/th\u003e\n",
              "      \u003ctd\u003eCNBC\u003c/td\u003e\n",
              "      \u003ctd\u003e2019-05-01\u003c/td\u003e\n",
              "      \u003ctd\u003eWith so many credit cards to choose from, it c...\u003c/td\u003e\n",
              "      \u003ctd\u003e0.9322\u003c/td\u003e\n",
              "    \u003c/tr\u003e\n",
              "    \u003ctr\u003e\n",
              "      \u003cth\u003e11768\u003c/th\u003e\n",
              "      \u003ctd\u003eWSJ\u003c/td\u003e\n",
              "      \u003ctd\u003e2019-05-02\u003c/td\u003e\n",
              "      \u003ctd\u003eU.S. workers’ efficiency improved during the p...\u003c/td\u003e\n",
              "      \u003ctd\u003e0.9325\u003c/td\u003e\n",
              "    \u003c/tr\u003e\n",
              "    \u003ctr\u003e\n",
              "      \u003cth\u003e14267\u003c/th\u003e\n",
              "      \u003ctd\u003eCNBC\u003c/td\u003e\n",
              "      \u003ctd\u003e2019-05-03\u003c/td\u003e\n",
              "      \u003ctd\u003eWe\u0027re proud to announce the winners of our #Sa...\u003c/td\u003e\n",
              "      \u003ctd\u003e0.9442\u003c/td\u003e\n",
              "    \u003c/tr\u003e\n",
              "    \u003ctr\u003e\n",
              "      \u003cth\u003e14356\u003c/th\u003e\n",
              "      \u003ctd\u003eYahooFinance\u003c/td\u003e\n",
              "      \u003ctd\u003e2019-05-03\u003c/td\u003e\n",
              "      \u003ctd\u003eHighlight: @seescandies CEO Pat Egan on traits...\u003c/td\u003e\n",
              "      \u003ctd\u003e0.9511\u003c/td\u003e\n",
              "    \u003c/tr\u003e\n",
              "    \u003ctr\u003e\n",
              "      \u003cth\u003e6245\u003c/th\u003e\n",
              "      \u003ctd\u003eYahooFinance\u003c/td\u003e\n",
              "      \u003ctd\u003e2019-04-25\u003c/td\u003e\n",
              "      \u003ctd\u003eHighlight: “I love to see a market like this w...\u003c/td\u003e\n",
              "      \u003ctd\u003e0.9628\u003c/td\u003e\n",
              "    \u003c/tr\u003e\n",
              "  \u003c/tbody\u003e\n",
              "\u003c/table\u003e\n",
              "\u003c/div\u003e"
            ],
            "text/plain": [
              "             author       date  \\\n",
              "11108      business 2019-05-02   \n",
              "7594   TheEconomist 2019-04-28   \n",
              "13673  TheEconomist 2019-05-03   \n",
              "14448           WSJ 2019-05-03   \n",
              "8813            WSJ 2019-04-30   \n",
              "9882           CNBC 2019-05-01   \n",
              "11768           WSJ 2019-05-02   \n",
              "14267          CNBC 2019-05-03   \n",
              "14356  YahooFinance 2019-05-03   \n",
              "6245   YahooFinance 2019-04-25   \n",
              "\n",
              "                                                   tweet  sentiment  \n",
              "11108  California man who Tesla accused of spying and...    -0.9623  \n",
              "7594   It is not unusual for Indian politicians to st...    -0.9545  \n",
              "13673  For years, YouTube avoided the type of ire dir...    -0.9337  \n",
              "14448  A terror attack in San Bernardino, Calif., fea...    -0.9295  \n",
              "8813   At least one suicide bomber in the Easter atta...    -0.9287  \n",
              "9882   With so many credit cards to choose from, it c...     0.9322  \n",
              "11768  U.S. workers’ efficiency improved during the p...     0.9325  \n",
              "14267  We\u0027re proud to announce the winners of our #Sa...     0.9442  \n",
              "14356  Highlight: @seescandies CEO Pat Egan on traits...     0.9511  \n",
              "6245   Highlight: “I love to see a market like this w...     0.9628  "
            ]
          },
          "execution_count": 82,
          "metadata": {},
          "output_type": "execute_result"
        }
      ],
      "source": [
        "# highest 5 and lowest 5 sentiment score\n",
        "focus.head(5).append(sorted.tail(5))"
      ]
    },
    {
      "cell_type": "code",
      "execution_count": 83,
      "metadata": {
        "pycharm": {}
      },
      "outputs": [
        {
          "data": {
            "text/plain": [
              "0.0482121696421595"
            ]
          },
          "execution_count": 83,
          "metadata": {},
          "output_type": "execute_result"
        }
      ],
      "source": [
        "# average sentiment score\n",
        "focus[\u0027sentiment\u0027].mean()"
      ]
    }
  ],
  "metadata": {
    "kernelspec": {
      "display_name": "PyCharm (sentrendus)",
      "language": "python",
      "name": "pycharm-fb324cd2"
    },
    "language_info": {
      "codemirror_mode": {
        "name": "ipython",
        "version": 3
      },
      "file_extension": ".py",
      "mimetype": "text/x-python",
      "name": "python",
      "nbconvert_exporter": "python",
      "pygments_lexer": "ipython3",
      "version": "3.6.7"
    }
  },
  "nbformat": 4,
  "nbformat_minor": 2
}