{
  "cells": [
    {
      "cell_type": "code",
      "execution_count": 20,
      "metadata": {
        "pycharm": {
          "is_executing": false
        }
      },
      "outputs": [],
      "source": [
        "import re\n",
        "\n",
        "import pandas as pd"
      ]
    },
    {
      "cell_type": "code",
      "execution_count": 21,
      "metadata": {
        "pycharm": {
          "is_executing": false
        }
      },
      "outputs": [],
      "source": [
        "from database import TweetDB"
      ]
    },
    {
      "cell_type": "code",
      "execution_count": 22,
      "metadata": {
        "pycharm": {
          "is_executing": false
        }
      },
      "outputs": [],
      "source": [
        "tweetdb \u003d TweetDB()"
      ]
    },
    {
      "cell_type": "code",
      "execution_count": 23,
      "metadata": {
        "pycharm": {
          "is_executing": false
        }
      },
      "outputs": [],
      "source": [
        "engine \u003d tweetdb.get_engine()\n",
        "conn \u003d engine.connect()"
      ]
    },
    {
      "cell_type": "code",
      "execution_count": 24,
      "metadata": {
        "pycharm": {
          "is_executing": false
        }
      },
      "outputs": [],
      "source": "df \u003d pd.read_sql(\u0027select * from tweets\u0027, conn)"
    },
    {
      "cell_type": "code",
      "execution_count": 25,
      "metadata": {
        "pycharm": {
          "is_executing": false
        }
      },
      "outputs": [],
      "source": "def cleaner(raw):\n    link_pattern \u003d [\n        r\u0027(http|https)://[a-zA-Z0-9\\./]*\\s\u0027,\n        r\u0027\\s+(http|https)://[a-zA-Z0-9\\./]*\\s\u0027,\n        r\u0027\\s+(http|https)://[a-zA-Z0-9\\./]*$\u0027,\n    ]\n    clean \u003d raw.lower().strip()\n    for ptn in link_pattern:\n        clean \u003d re.sub(ptn, \u0027\u0027, raw)\n    return clean"
    },
    {
      "cell_type": "code",
      "execution_count": 26,
      "metadata": {
        "pycharm": {
          "is_executing": false
        }
      },
      "outputs": [],
      "source": "df[\u0027tweet_clean\u0027] \u003d df[\u0027tweet\u0027].apply(lambda t: cleaner(t))"
    },
    {
      "cell_type": "code",
      "execution_count": 28,
      "metadata": {
        "pycharm": {
          "is_executing": false
        }
      },
      "outputs": [
        {
          "name": "stdout",
          "text": [
            "Oil and gold back off as dollar gains ground - Commodities started the year on a high note, with oil above $90 a bar...\n"
          ],
          "output_type": "stream"
        }
      ],
      "source": "print(df[\u0027tweet_clean\u0027][0])"
    },
    {
      "cell_type": "code",
      "execution_count": null,
      "outputs": [],
      "source": "\n",
      "metadata": {
        "pycharm": {
          "metadata": false,
          "name": "#%%\n"
        }
      }
    }
  ],
  "metadata": {
    "kernelspec": {
      "name": "pycharm-fb324cd2",
      "language": "python",
      "display_name": "PyCharm (sentrendus)"
    },
    "language_info": {
      "codemirror_mode": {
        "name": "ipython",
        "version": 3
      },
      "file_extension": ".py",
      "mimetype": "text/x-python",
      "name": "python",
      "nbconvert_exporter": "python",
      "pygments_lexer": "ipython3",
      "version": "3.6.7"
    }
  },
  "nbformat": 4,
  "nbformat_minor": 2
}