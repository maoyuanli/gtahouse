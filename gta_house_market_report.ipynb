{
 "cells": [
  {
   "cell_type": "code",
   "execution_count": 1,
   "metadata": {
    "pycharm": {
     "is_executing": false
    }
   },
   "outputs": [],
   "source": [
    "import re\n",
    "import pandas as pd\n",
    "pd.options.mode.chained_assignment = None\n",
    "from nltk.corpus import stopwords\n",
    "from nltk.sentiment.vader import SentimentIntensityAnalyzer\n",
    "from nltk.stem import PorterStemmer\n",
    "import string\n",
    "from datetime import datetime\n",
    "from utils.database_util import DatabaseUtil\n",
    "from matplotlib import pyplot as plt\n",
    "import seaborn as sns\n",
    "import quandl\n",
    "from sklearn import preprocessing\n",
    "%matplotlib inline\n",
    "pd.options.display.float_format = '{:,.0f}'.format\n",
    "%config IPCompleter.greedy=True"
   ]
  },
  {
   "cell_type": "markdown",
   "metadata": {
    "pycharm": {}
   },
   "source": [
    "# Data Cleaning"
   ]
  },
  {
   "cell_type": "code",
   "execution_count": 2,
   "metadata": {
    "pycharm": {
     "is_executing": false
    }
   },
   "outputs": [],
   "source": [
    "# connect to the sqlite3 db file, utilizing the customized module\n",
    "DBUtil = DatabaseUtil()\n",
    "conn = DBUtil.get_conn()"
   ]
  },
  {
   "cell_type": "markdown",
   "metadata": {},
   "source": [
    "* clean tweets data"
   ]
  },
  {
   "cell_type": "code",
   "execution_count": 3,
   "metadata": {
    "pycharm": {
     "is_executing": false
    }
   },
   "outputs": [],
   "source": [
    "df_t = pd.read_sql('select * from tweets', conn)"
   ]
  },
  {
   "cell_type": "code",
   "execution_count": 4,
   "metadata": {},
   "outputs": [
    {
     "data": {
      "text/html": [
       "<div>\n",
       "<style scoped>\n",
       "    .dataframe tbody tr th:only-of-type {\n",
       "        vertical-align: middle;\n",
       "    }\n",
       "\n",
       "    .dataframe tbody tr th {\n",
       "        vertical-align: top;\n",
       "    }\n",
       "\n",
       "    .dataframe thead th {\n",
       "        text-align: right;\n",
       "    }\n",
       "</style>\n",
       "<table border=\"1\" class=\"dataframe\">\n",
       "  <thead>\n",
       "    <tr style=\"text-align: right;\">\n",
       "      <th></th>\n",
       "      <th>id</th>\n",
       "      <th>author</th>\n",
       "      <th>tweet</th>\n",
       "      <th>time</th>\n",
       "      <th>type</th>\n",
       "    </tr>\n",
       "  </thead>\n",
       "  <tbody>\n",
       "    <tr>\n",
       "      <th>16333</th>\n",
       "      <td>1055548506276999168</td>\n",
       "      <td>condobusiness</td>\n",
       "      <td>Mortgage financing stress test makes the grade...</td>\n",
       "      <td>2018-10-25 19:55:49</td>\n",
       "      <td>realtor</td>\n",
       "    </tr>\n",
       "    <tr>\n",
       "      <th>19327</th>\n",
       "      <td>1086647023917506563</td>\n",
       "      <td>IBDinvestors</td>\n",
       "      <td>If you don’t learn from your trading mistakes,...</td>\n",
       "      <td>2019-01-19 15:30:14</td>\n",
       "      <td>biznews</td>\n",
       "    </tr>\n",
       "    <tr>\n",
       "      <th>29967</th>\n",
       "      <td>1126630452532584448</td>\n",
       "      <td>WSJ</td>\n",
       "      <td>News Corp reported a sharp increase in revenue...</td>\n",
       "      <td>2019-05-09 23:30:06</td>\n",
       "      <td>biznews</td>\n",
       "    </tr>\n",
       "    <tr>\n",
       "      <th>11921</th>\n",
       "      <td>1003763325556215809</td>\n",
       "      <td>RealEstateProCA</td>\n",
       "      <td>Heavyweight global investors convening in Toro...</td>\n",
       "      <td>2018-06-04 22:20:00</td>\n",
       "      <td>realtor</td>\n",
       "    </tr>\n",
       "    <tr>\n",
       "      <th>29462</th>\n",
       "      <td>1126354875208671232</td>\n",
       "      <td>WSJ</td>\n",
       "      <td>Pay for executives and senior managers is low ...</td>\n",
       "      <td>2019-05-09 05:15:03</td>\n",
       "      <td>biznews</td>\n",
       "    </tr>\n",
       "  </tbody>\n",
       "</table>\n",
       "</div>"
      ],
      "text/plain": [
       "                        id           author  \\\n",
       "16333  1055548506276999168    condobusiness   \n",
       "19327  1086647023917506563     IBDinvestors   \n",
       "29967  1126630452532584448              WSJ   \n",
       "11921  1003763325556215809  RealEstateProCA   \n",
       "29462  1126354875208671232              WSJ   \n",
       "\n",
       "                                                   tweet                 time  \\\n",
       "16333  Mortgage financing stress test makes the grade...  2018-10-25 19:55:49   \n",
       "19327  If you don’t learn from your trading mistakes,...  2019-01-19 15:30:14   \n",
       "29967  News Corp reported a sharp increase in revenue...  2019-05-09 23:30:06   \n",
       "11921  Heavyweight global investors convening in Toro...  2018-06-04 22:20:00   \n",
       "29462  Pay for executives and senior managers is low ...  2019-05-09 05:15:03   \n",
       "\n",
       "          type  \n",
       "16333  realtor  \n",
       "19327  biznews  \n",
       "29967  biznews  \n",
       "11921  realtor  \n",
       "29462  biznews  "
      ]
     },
     "execution_count": 4,
     "metadata": {},
     "output_type": "execute_result"
    }
   ],
   "source": [
    "# tweets df before cleaning\n",
    "df_t.sample(5)"
   ]
  },
  {
   "cell_type": "code",
   "execution_count": 5,
   "metadata": {
    "pycharm": {
     "is_executing": false
    }
   },
   "outputs": [],
   "source": [
    "# twitter text processing and cleaning function\n",
    "def process_words(raw, remove_punc=False, stem=False):\n",
    "    link_pattern = [\n",
    "        r'(http|https)://[a-zA-Z0-9\\./]*\\s',\n",
    "        r'\\s+(http|https)://[a-zA-Z0-9\\./]*\\s',\n",
    "        r'\\s+(http|https)://[a-zA-Z0-9\\./]*$',\n",
    "    ]\n",
    "    clean = raw.lower().strip()\n",
    "    for ptn in link_pattern:\n",
    "        clean = re.sub(ptn, '', clean)\n",
    "    if remove_punc:\n",
    "        nopunc = [c for c in clean if c not in string.punctuation]\n",
    "        raw = ''.join(nopunc)\n",
    "\n",
    "    stopwords_list = []\n",
    "    stopwords_list_en = set(stopwords.words('english'))\n",
    "    stopwords_list_fr = set(stopwords.words('french'))\n",
    "    stopwords_list.extend(stopwords_list_en)\n",
    "    stopwords_list.extend(stopwords_list_fr)\n",
    "   \n",
    "    nostop = [w for w in raw.split() if w.lower() not in stopwords_list]\n",
    "    if stem:\n",
    "        stemmer = PorterStemmer()\n",
    "        return ' '.join([stemmer.stem(t) for t in nostop])\n",
    "    else:\n",
    "        return ' '.join(nostop)"
   ]
  },
  {
   "cell_type": "code",
   "execution_count": 6,
   "metadata": {
    "pycharm": {
     "is_executing": false
    }
   },
   "outputs": [],
   "source": [
    "df_t['tweet_clean'] = df_t['tweet'].apply(lambda t: process_words(t, remove_punc=True))\n",
    "# transform tweet timestamp from string format to datetime\n",
    "df_t['date'] = df_t['time'].apply(lambda t: re.findall('\\d\\d\\d\\d-\\d\\d-\\d\\d',t)[0])\n",
    "df_t['date'] = df_t['date'].apply(lambda s: datetime.strptime(s,'%Y-%m-%d'))\n",
    "df_t.drop(['time','tweet'],axis = 1, inplace=True)"
   ]
  },
  {
   "cell_type": "code",
   "execution_count": 7,
   "metadata": {
    "pycharm": {
     "is_executing": false
    }
   },
   "outputs": [
    {
     "data": {
      "text/html": [
       "<div>\n",
       "<style scoped>\n",
       "    .dataframe tbody tr th:only-of-type {\n",
       "        vertical-align: middle;\n",
       "    }\n",
       "\n",
       "    .dataframe tbody tr th {\n",
       "        vertical-align: top;\n",
       "    }\n",
       "\n",
       "    .dataframe thead th {\n",
       "        text-align: right;\n",
       "    }\n",
       "</style>\n",
       "<table border=\"1\" class=\"dataframe\">\n",
       "  <thead>\n",
       "    <tr style=\"text-align: right;\">\n",
       "      <th></th>\n",
       "      <th>id</th>\n",
       "      <th>author</th>\n",
       "      <th>type</th>\n",
       "      <th>tweet_clean</th>\n",
       "      <th>date</th>\n",
       "    </tr>\n",
       "  </thead>\n",
       "  <tbody>\n",
       "    <tr>\n",
       "      <th>4743</th>\n",
       "      <td>860471655478566912</td>\n",
       "      <td>HOMESMagazineON</td>\n",
       "      <td>realtor</td>\n",
       "      <td>editors choice madisongroup inspired living fr...</td>\n",
       "      <td>2017-05-05</td>\n",
       "    </tr>\n",
       "    <tr>\n",
       "      <th>39967</th>\n",
       "      <td>1129865019578101760</td>\n",
       "      <td>YahooFinance</td>\n",
       "      <td>biznews</td>\n",
       "      <td>come meet physique57 cofounder ceo jennifer ma...</td>\n",
       "      <td>2019-05-18</td>\n",
       "    </tr>\n",
       "    <tr>\n",
       "      <th>32934</th>\n",
       "      <td>1128231277793021956</td>\n",
       "      <td>barronsonline</td>\n",
       "      <td>biznews</td>\n",
       "      <td>alibaba reports earnings tomorrow here’s expect</td>\n",
       "      <td>2019-05-14</td>\n",
       "    </tr>\n",
       "    <tr>\n",
       "      <th>17586</th>\n",
       "      <td>1067581414571425792</td>\n",
       "      <td>HOMESMagazineON</td>\n",
       "      <td>realtor</td>\n",
       "      <td>second series gm developments oshawa means eco...</td>\n",
       "      <td>2018-11-28</td>\n",
       "    </tr>\n",
       "    <tr>\n",
       "      <th>13062</th>\n",
       "      <td>1014481514757853185</td>\n",
       "      <td>RECOhelps</td>\n",
       "      <td>realtor</td>\n",
       "      <td>salespeople brokers new reco registrar’s bulle...</td>\n",
       "      <td>2018-07-04</td>\n",
       "    </tr>\n",
       "  </tbody>\n",
       "</table>\n",
       "</div>"
      ],
      "text/plain": [
       "                        id           author     type  \\\n",
       "4743    860471655478566912  HOMESMagazineON  realtor   \n",
       "39967  1129865019578101760     YahooFinance  biznews   \n",
       "32934  1128231277793021956    barronsonline  biznews   \n",
       "17586  1067581414571425792  HOMESMagazineON  realtor   \n",
       "13062  1014481514757853185        RECOhelps  realtor   \n",
       "\n",
       "                                             tweet_clean       date  \n",
       "4743   editors choice madisongroup inspired living fr... 2017-05-05  \n",
       "39967  come meet physique57 cofounder ceo jennifer ma... 2019-05-18  \n",
       "32934    alibaba reports earnings tomorrow here’s expect 2019-05-14  \n",
       "17586  second series gm developments oshawa means eco... 2018-11-28  \n",
       "13062  salespeople brokers new reco registrar’s bulle... 2018-07-04  "
      ]
     },
     "execution_count": 7,
     "metadata": {},
     "output_type": "execute_result"
    }
   ],
   "source": [
    "# tweets df after cleaning\n",
    "df_t.sample(5)"
   ]
  },
  {
   "cell_type": "code",
   "execution_count": 8,
   "metadata": {},
   "outputs": [],
   "source": [
    "# subsetting the dataframe, grouping by tweets categories\n",
    "news = df_t[df_t['type'] == 'biznews']\n",
    "realtor = df_t[df_t['type'] == 'realtor']\n",
    "searched = df_t[df_t['type'] == 'search']"
   ]
  },
  {
   "cell_type": "markdown",
   "metadata": {},
   "source": [
    "* clean RealMaster data"
   ]
  },
  {
   "cell_type": "code",
   "execution_count": 9,
   "metadata": {},
   "outputs": [],
   "source": [
    "df_praw = pd.read_sql('select * from realmaster', conn)"
   ]
  },
  {
   "cell_type": "code",
   "execution_count": 10,
   "metadata": {},
   "outputs": [
    {
     "data": {
      "text/html": [
       "<div>\n",
       "<style scoped>\n",
       "    .dataframe tbody tr th:only-of-type {\n",
       "        vertical-align: middle;\n",
       "    }\n",
       "\n",
       "    .dataframe tbody tr th {\n",
       "        vertical-align: top;\n",
       "    }\n",
       "\n",
       "    .dataframe thead th {\n",
       "        text-align: right;\n",
       "    }\n",
       "</style>\n",
       "<table border=\"1\" class=\"dataframe\">\n",
       "  <thead>\n",
       "    <tr style=\"text-align: right;\">\n",
       "      <th></th>\n",
       "      <th>listID</th>\n",
       "      <th>address</th>\n",
       "      <th>ask</th>\n",
       "      <th>city</th>\n",
       "      <th>proptype</th>\n",
       "    </tr>\n",
       "  </thead>\n",
       "  <tbody>\n",
       "    <tr>\n",
       "      <th>997</th>\n",
       "      <td>N4399159</td>\n",
       "      <td>56 Wales Ave Markham Ontario L3P2C5</td>\n",
       "      <td>945000</td>\n",
       "      <td>Markham</td>\n",
       "      <td>Bungalow</td>\n",
       "    </tr>\n",
       "    <tr>\n",
       "      <th>3151</th>\n",
       "      <td>C4451420</td>\n",
       "      <td>5418 Yonge St Toronto Ontario M2N6X4</td>\n",
       "      <td>718000</td>\n",
       "      <td>Toronto</td>\n",
       "      <td>Apartment</td>\n",
       "    </tr>\n",
       "    <tr>\n",
       "      <th>3061</th>\n",
       "      <td>C4448509</td>\n",
       "      <td>170 Newton Dr Toronto Ontario M2M2N7</td>\n",
       "      <td>1668000</td>\n",
       "      <td>Toronto</td>\n",
       "      <td>Bungalow</td>\n",
       "    </tr>\n",
       "    <tr>\n",
       "      <th>3116</th>\n",
       "      <td>W4452211</td>\n",
       "      <td>2 Dovehaven Crt Toronto Ontario M3N2G6</td>\n",
       "      <td>749000</td>\n",
       "      <td>Toronto</td>\n",
       "      <td>Bungalow</td>\n",
       "    </tr>\n",
       "    <tr>\n",
       "      <th>1492</th>\n",
       "      <td>W4442412</td>\n",
       "      <td>510 Curran Pl Mississauga Ontario L5B 0J8</td>\n",
       "      <td>445000</td>\n",
       "      <td>Mississauga</td>\n",
       "      <td>Apartment</td>\n",
       "    </tr>\n",
       "  </tbody>\n",
       "</table>\n",
       "</div>"
      ],
      "text/plain": [
       "        listID                                    address      ask  \\\n",
       "997   N4399159        56 Wales Ave Markham Ontario L3P2C5   945000   \n",
       "3151  C4451420       5418 Yonge St Toronto Ontario M2N6X4   718000   \n",
       "3061  C4448509       170 Newton Dr Toronto Ontario M2M2N7  1668000   \n",
       "3116  W4452211     2 Dovehaven Crt Toronto Ontario M3N2G6   749000   \n",
       "1492  W4442412  510 Curran Pl Mississauga Ontario L5B 0J8   445000   \n",
       "\n",
       "             city   proptype  \n",
       "997       Markham   Bungalow  \n",
       "3151      Toronto  Apartment  \n",
       "3061      Toronto   Bungalow  \n",
       "3116      Toronto   Bungalow  \n",
       "1492  Mississauga  Apartment  "
      ]
     },
     "execution_count": 10,
     "metadata": {},
     "output_type": "execute_result"
    }
   ],
   "source": [
    "# web df before cleaning\n",
    "df_praw.sample(5)"
   ]
  },
  {
   "cell_type": "code",
   "execution_count": 11,
   "metadata": {},
   "outputs": [],
   "source": [
    "def get_postal(s):\n",
    "    p = re.findall('[A-Z]\\d[A-Z]\\s?\\d[A-Z]\\d',s)\n",
    "    if len(p) > 0:\n",
    "        return p[0].replace(' ','')\n",
    "    else:\n",
    "        return None"
   ]
  },
  {
   "cell_type": "code",
   "execution_count": 12,
   "metadata": {},
   "outputs": [],
   "source": [
    "df_p = df_praw.copy()"
   ]
  },
  {
   "cell_type": "code",
   "execution_count": 13,
   "metadata": {},
   "outputs": [],
   "source": [
    "# spin out postal code\n",
    "df_p['postal'] = df_p['address'].apply(lambda a: get_postal(a))"
   ]
  },
  {
   "cell_type": "code",
   "execution_count": 14,
   "metadata": {},
   "outputs": [],
   "source": [
    "# clean city name ('Richmond%20Hill')\n",
    "df_p['city'] = df_p['city'].apply(lambda c:c.replace('%20',' '))"
   ]
  },
  {
   "cell_type": "code",
   "execution_count": 15,
   "metadata": {},
   "outputs": [],
   "source": [
    "# spin street address out of original raw format\n",
    "def spin_address(df,col1,col2):\n",
    "    df['bind'] = df[[col1,col2]].apply(tuple,axis=1)\n",
    "    df['street'] = df['bind'].apply(lambda t: t[0].split(t[1])[0])\n",
    "    new_df = df[['listID','proptype','ask','street','city','postal']]\n",
    "    return new_df"
   ]
  },
  {
   "cell_type": "code",
   "execution_count": 16,
   "metadata": {},
   "outputs": [],
   "source": [
    "df_p = spin_address(df_p,'address','city')"
   ]
  },
  {
   "cell_type": "code",
   "execution_count": 17,
   "metadata": {},
   "outputs": [
    {
     "data": {
      "text/html": [
       "<div>\n",
       "<style scoped>\n",
       "    .dataframe tbody tr th:only-of-type {\n",
       "        vertical-align: middle;\n",
       "    }\n",
       "\n",
       "    .dataframe tbody tr th {\n",
       "        vertical-align: top;\n",
       "    }\n",
       "\n",
       "    .dataframe thead th {\n",
       "        text-align: right;\n",
       "    }\n",
       "</style>\n",
       "<table border=\"1\" class=\"dataframe\">\n",
       "  <thead>\n",
       "    <tr style=\"text-align: right;\">\n",
       "      <th></th>\n",
       "      <th>listID</th>\n",
       "      <th>proptype</th>\n",
       "      <th>ask</th>\n",
       "      <th>street</th>\n",
       "      <th>city</th>\n",
       "      <th>postal</th>\n",
       "    </tr>\n",
       "  </thead>\n",
       "  <tbody>\n",
       "    <tr>\n",
       "      <th>2016</th>\n",
       "      <td>O4431656</td>\n",
       "      <td>Bungalow</td>\n",
       "      <td>859000</td>\n",
       "      <td>394 St. Augustine Dr</td>\n",
       "      <td>Oakville</td>\n",
       "      <td>L6K3E8</td>\n",
       "    </tr>\n",
       "    <tr>\n",
       "      <th>162</th>\n",
       "      <td>W4449554</td>\n",
       "      <td>Detached</td>\n",
       "      <td>979000</td>\n",
       "      <td>2370 Emerson Dr</td>\n",
       "      <td>Burlington</td>\n",
       "      <td>L7L7G6</td>\n",
       "    </tr>\n",
       "    <tr>\n",
       "      <th>1448</th>\n",
       "      <td>W4450401</td>\n",
       "      <td>Apartment</td>\n",
       "      <td>599900</td>\n",
       "      <td>310 Burnhamthorpe Rd W</td>\n",
       "      <td>Mississauga</td>\n",
       "      <td>L5B4P9</td>\n",
       "    </tr>\n",
       "    <tr>\n",
       "      <th>1145</th>\n",
       "      <td>W4390318</td>\n",
       "      <td>Detached</td>\n",
       "      <td>1139000</td>\n",
       "      <td>711 Dolby Cres</td>\n",
       "      <td>Milton</td>\n",
       "      <td>L9T5L8</td>\n",
       "    </tr>\n",
       "    <tr>\n",
       "      <th>2654</th>\n",
       "      <td>N4426786</td>\n",
       "      <td>Bungalow</td>\n",
       "      <td>1399000</td>\n",
       "      <td>54 Dunn Dr</td>\n",
       "      <td>Richmond Hill</td>\n",
       "      <td>L4E3H8</td>\n",
       "    </tr>\n",
       "  </tbody>\n",
       "</table>\n",
       "</div>"
      ],
      "text/plain": [
       "        listID   proptype      ask                   street           city  \\\n",
       "2016  O4431656   Bungalow   859000    394 St. Augustine Dr        Oakville   \n",
       "162   W4449554   Detached   979000         2370 Emerson Dr      Burlington   \n",
       "1448  W4450401  Apartment   599900  310 Burnhamthorpe Rd W     Mississauga   \n",
       "1145  W4390318   Detached  1139000          711 Dolby Cres          Milton   \n",
       "2654  N4426786   Bungalow  1399000              54 Dunn Dr   Richmond Hill   \n",
       "\n",
       "      postal  \n",
       "2016  L6K3E8  \n",
       "162   L7L7G6  \n",
       "1448  L5B4P9  \n",
       "1145  L9T5L8  \n",
       "2654  L4E3H8  "
      ]
     },
     "execution_count": 17,
     "metadata": {},
     "output_type": "execute_result"
    }
   ],
   "source": [
    "# web df after cleaning\n",
    "df_p.sample(5)"
   ]
  },
  {
   "cell_type": "markdown",
   "metadata": {},
   "source": [
    "* clean and filter CMHC data"
   ]
  },
  {
   "cell_type": "code",
   "execution_count": 18,
   "metadata": {},
   "outputs": [],
   "source": [
    "# Canadian Mortgage and Housing Corporation - Average, Median and Price Percentiles for Unabsorbed Homeowner and Condominium Units (Ontario)\n",
    "cmhc_raw = pd.read_sql('select * from cmhc',con=conn)"
   ]
  },
  {
   "cell_type": "code",
   "execution_count": 19,
   "metadata": {},
   "outputs": [
    {
     "data": {
      "text/html": [
       "<div>\n",
       "<style scoped>\n",
       "    .dataframe tbody tr th:only-of-type {\n",
       "        vertical-align: middle;\n",
       "    }\n",
       "\n",
       "    .dataframe tbody tr th {\n",
       "        vertical-align: top;\n",
       "    }\n",
       "\n",
       "    .dataframe thead th {\n",
       "        text-align: right;\n",
       "    }\n",
       "</style>\n",
       "<table border=\"1\" class=\"dataframe\">\n",
       "  <thead>\n",
       "    <tr style=\"text-align: right;\">\n",
       "      <th></th>\n",
       "      <th>Date</th>\n",
       "      <th>1st 20%</th>\n",
       "      <th>2nd 40%</th>\n",
       "      <th>3rd 60%</th>\n",
       "      <th>4th 80%</th>\n",
       "      <th>Median</th>\n",
       "      <th>Average</th>\n",
       "      <th>Units</th>\n",
       "    </tr>\n",
       "  </thead>\n",
       "  <tbody>\n",
       "    <tr>\n",
       "      <th>310</th>\n",
       "      <td>2015-11-30 00:00:00.000000</td>\n",
       "      <td>330,000</td>\n",
       "      <td>400,000</td>\n",
       "      <td>500,000</td>\n",
       "      <td>866,000</td>\n",
       "      <td>450,000</td>\n",
       "      <td>750,987</td>\n",
       "      <td>1,336</td>\n",
       "    </tr>\n",
       "    <tr>\n",
       "      <th>154</th>\n",
       "      <td>2002-11-30 00:00:00.000000</td>\n",
       "      <td>180,000</td>\n",
       "      <td>210,000</td>\n",
       "      <td>240,000</td>\n",
       "      <td>300,000</td>\n",
       "      <td>220,000</td>\n",
       "      <td>254,656</td>\n",
       "      <td>1,922</td>\n",
       "    </tr>\n",
       "    <tr>\n",
       "      <th>180</th>\n",
       "      <td>2005-01-31 00:00:00.000000</td>\n",
       "      <td>220,000</td>\n",
       "      <td>280,000</td>\n",
       "      <td>340,000</td>\n",
       "      <td>415,000</td>\n",
       "      <td>305,000</td>\n",
       "      <td>359,777</td>\n",
       "      <td>1,605</td>\n",
       "    </tr>\n",
       "    <tr>\n",
       "      <th>142</th>\n",
       "      <td>2001-11-30 00:00:00.000000</td>\n",
       "      <td>175,000</td>\n",
       "      <td>200,000</td>\n",
       "      <td>230,000</td>\n",
       "      <td>295,000</td>\n",
       "      <td>210,000</td>\n",
       "      <td>259,513</td>\n",
       "      <td>1,706</td>\n",
       "    </tr>\n",
       "    <tr>\n",
       "      <th>156</th>\n",
       "      <td>2003-01-31 00:00:00.000000</td>\n",
       "      <td>180,000</td>\n",
       "      <td>210,000</td>\n",
       "      <td>250,000</td>\n",
       "      <td>305,000</td>\n",
       "      <td>230,000</td>\n",
       "      <td>263,168</td>\n",
       "      <td>1,697</td>\n",
       "    </tr>\n",
       "  </tbody>\n",
       "</table>\n",
       "</div>"
      ],
      "text/plain": [
       "                           Date  1st 20%  2nd 40%  3rd 60%  4th 80%  Median  \\\n",
       "310  2015-11-30 00:00:00.000000  330,000  400,000  500,000  866,000 450,000   \n",
       "154  2002-11-30 00:00:00.000000  180,000  210,000  240,000  300,000 220,000   \n",
       "180  2005-01-31 00:00:00.000000  220,000  280,000  340,000  415,000 305,000   \n",
       "142  2001-11-30 00:00:00.000000  175,000  200,000  230,000  295,000 210,000   \n",
       "156  2003-01-31 00:00:00.000000  180,000  210,000  250,000  305,000 230,000   \n",
       "\n",
       "     Average  Units  \n",
       "310  750,987  1,336  \n",
       "154  254,656  1,922  \n",
       "180  359,777  1,605  \n",
       "142  259,513  1,706  \n",
       "156  263,168  1,697  "
      ]
     },
     "execution_count": 19,
     "metadata": {},
     "output_type": "execute_result"
    }
   ],
   "source": [
    "#CMHC data before cleaning\n",
    "cmhc_raw.sample(5)"
   ]
  },
  {
   "cell_type": "code",
   "execution_count": 20,
   "metadata": {},
   "outputs": [],
   "source": [
    "cmhc_raw['Date'] = cmhc_raw['Date'].apply(lambda t: re.findall('\\d\\d\\d\\d-\\d\\d-\\d\\d',t)[0])\n",
    "cmhc_raw['Date'] = cmhc_raw['Date'].apply(lambda s: datetime.strptime(s,'%Y-%m-%d'))"
   ]
  },
  {
   "cell_type": "code",
   "execution_count": 21,
   "metadata": {},
   "outputs": [],
   "source": [
    "cmhc_stat = cmhc_raw[cmhc_raw['Date']>= datetime(2019,1,1)]"
   ]
  },
  {
   "cell_type": "code",
   "execution_count": 22,
   "metadata": {},
   "outputs": [
    {
     "data": {
      "text/html": [
       "<div>\n",
       "<style scoped>\n",
       "    .dataframe tbody tr th:only-of-type {\n",
       "        vertical-align: middle;\n",
       "    }\n",
       "\n",
       "    .dataframe tbody tr th {\n",
       "        vertical-align: top;\n",
       "    }\n",
       "\n",
       "    .dataframe thead th {\n",
       "        text-align: right;\n",
       "    }\n",
       "</style>\n",
       "<table border=\"1\" class=\"dataframe\">\n",
       "  <thead>\n",
       "    <tr style=\"text-align: right;\">\n",
       "      <th></th>\n",
       "      <th>Date</th>\n",
       "      <th>1st 20%</th>\n",
       "      <th>2nd 40%</th>\n",
       "      <th>3rd 60%</th>\n",
       "      <th>4th 80%</th>\n",
       "      <th>Median</th>\n",
       "      <th>Average</th>\n",
       "      <th>Units</th>\n",
       "    </tr>\n",
       "  </thead>\n",
       "  <tbody>\n",
       "    <tr>\n",
       "      <th>347</th>\n",
       "      <td>2019-01-31</td>\n",
       "      <td>440,000</td>\n",
       "      <td>555,000</td>\n",
       "      <td>670,000</td>\n",
       "      <td>1,260,000</td>\n",
       "      <td>620,000</td>\n",
       "      <td>928,256</td>\n",
       "      <td>1,413</td>\n",
       "    </tr>\n",
       "    <tr>\n",
       "      <th>348</th>\n",
       "      <td>2019-02-28</td>\n",
       "      <td>440,000</td>\n",
       "      <td>555,000</td>\n",
       "      <td>670,000</td>\n",
       "      <td>1,100,000</td>\n",
       "      <td>620,000</td>\n",
       "      <td>899,072</td>\n",
       "      <td>1,460</td>\n",
       "    </tr>\n",
       "    <tr>\n",
       "      <th>349</th>\n",
       "      <td>2019-03-31</td>\n",
       "      <td>450,000</td>\n",
       "      <td>575,000</td>\n",
       "      <td>690,000</td>\n",
       "      <td>1,125,000</td>\n",
       "      <td>630,000</td>\n",
       "      <td>924,375</td>\n",
       "      <td>1,471</td>\n",
       "    </tr>\n",
       "    <tr>\n",
       "      <th>350</th>\n",
       "      <td>2019-04-30</td>\n",
       "      <td>465,000</td>\n",
       "      <td>585,000</td>\n",
       "      <td>700,000</td>\n",
       "      <td>1,330,000</td>\n",
       "      <td>645,000</td>\n",
       "      <td>971,201</td>\n",
       "      <td>1,383</td>\n",
       "    </tr>\n",
       "  </tbody>\n",
       "</table>\n",
       "</div>"
      ],
      "text/plain": [
       "          Date  1st 20%  2nd 40%  3rd 60%   4th 80%  Median  Average  Units\n",
       "347 2019-01-31  440,000  555,000  670,000 1,260,000 620,000  928,256  1,413\n",
       "348 2019-02-28  440,000  555,000  670,000 1,100,000 620,000  899,072  1,460\n",
       "349 2019-03-31  450,000  575,000  690,000 1,125,000 630,000  924,375  1,471\n",
       "350 2019-04-30  465,000  585,000  700,000 1,330,000 645,000  971,201  1,383"
      ]
     },
     "execution_count": 22,
     "metadata": {},
     "output_type": "execute_result"
    }
   ],
   "source": [
    "# after cleaning and filter\n",
    "cmhc_stat"
   ]
  },
  {
   "cell_type": "markdown",
   "metadata": {
    "pycharm": {}
   },
   "source": [
    "# Exploratory Analysis"
   ]
  },
  {
   "cell_type": "markdown",
   "metadata": {},
   "source": [
    "## Sentiment"
   ]
  },
  {
   "cell_type": "code",
   "execution_count": 23,
   "metadata": {
    "pycharm": {}
   },
   "outputs": [
    {
     "data": {
      "image/png": "[encoded data removed]",
      "text/plain": [
       "<Figure size 1440x576 with 2 Axes>"
      ]
     },
     "metadata": {
      "needs_background": "light"
     },
     "output_type": "display_data"
    }
   ],
   "source": [
    "# count the number of tweets collected from each news outlet\n",
    "cntfig = plt.figure(figsize=(20,8))\n",
    "f1 = cntfig.add_subplot(121)\n",
    "f1 = news.groupby('author')['tweet_clean'].count().sort_values().plot(kind='barh')\n",
    "f2 = cntfig.add_subplot(122)\n",
    "f2 = realtor.groupby('author')['tweet_clean'].count().sort_values().plot(kind='barh')\n",
    "axes = cntfig.get_axes()\n",
    "axes[0].set_title('news')\n",
    "axes[1].set_title('realtor')\n",
    "plt.show()"
   ]
  },
  {
   "cell_type": "code",
   "execution_count": 24,
   "metadata": {},
   "outputs": [],
   "source": [
    "def find_sent(df):\n",
    "    analyzer = SentimentIntensityAnalyzer()\n",
    "    df['sentiment'] = df['tweet_clean'].apply(lambda t: analyzer.polarity_scores(t)['compound'])\n",
    "    focus = df[['author','date','tweet_clean','sentiment']]\n",
    "    focus = df[['author','date','tweet_clean','sentiment']]\n",
    "    filter_time = focus['date'] >= datetime(2019,1,1)\n",
    "    recent = focus[filter_time].set_index('date')\n",
    "    return recent"
   ]
  },
  {
   "cell_type": "code",
   "execution_count": 25,
   "metadata": {},
   "outputs": [],
   "source": [
    "news_recent = find_sent(news)\n",
    "realtor_recent = find_sent(realtor)\n",
    "searched_recent = find_sent(searched)"
   ]
  },
  {
   "cell_type": "code",
   "execution_count": 26,
   "metadata": {},
   "outputs": [],
   "source": [
    "def sent_trend(df):\n",
    "    grouper = df.groupby(pd.Grouper(freq='M'))\n",
    "    groupby_month = grouper.mean().reset_index()\n",
    "    f = plt.scatter(x=groupby_month['date'],y=groupby_month['sentiment'])\n",
    "    return f"
   ]
  },
  {
   "cell_type": "code",
   "execution_count": 27,
   "metadata": {},
   "outputs": [
    {
     "data": {
      "image/png": "[encoded data removed]",
      "text/plain": [
       "<Figure size 1440x576 with 2 Axes>"
      ]
     },
     "metadata": {
      "needs_background": "light"
     },
     "output_type": "display_data"
    }
   ],
   "source": [
    "trendfig = plt.figure(figsize=(20,8))\n",
    "fn = trendfig.add_subplot(121)\n",
    "fn = sent_trend(news_recent)\n",
    "fr = trendfig.add_subplot(122)\n",
    "fr = sent_trend(realtor_recent)\n",
    "axes = trendfig.get_axes()\n",
    "axes[0].set_title('news')\n",
    "axes[1].set_title('realtor')\n",
    "plt.show()"
   ]
  },
  {
   "cell_type": "code",
   "execution_count": 28,
   "metadata": {},
   "outputs": [],
   "source": [
    "def sent_ingroup(df):\n",
    "    groupby_author = df.groupby('author').mean().reset_index().sort_values('sentiment')\n",
    "#     f = groupby_author.plot(x='author',kind='barh', figsize = (8,6))\n",
    "    f = plt.barh(groupby_author['author'], groupby_author['sentiment'])\n",
    "    return f"
   ]
  },
  {
   "cell_type": "code",
   "execution_count": 29,
   "metadata": {},
   "outputs": [
    {
     "data": {
      "image/png": "[encoded data removed]",
      "text/plain": [
       "<Figure size 1440x576 with 2 Axes>"
      ]
     },
     "metadata": {
      "needs_background": "light"
     },
     "output_type": "display_data"
    }
   ],
   "source": [
    "groupfig = plt.figure(figsize=(20,8))\n",
    "fn = groupfig.add_subplot(121)\n",
    "fn = sent_ingroup(news_recent)\n",
    "fr = groupfig.add_subplot(122)\n",
    "fr = sent_ingroup(realtor_recent)\n",
    "axes = groupfig.get_axes()\n",
    "axes[0].set_title('news')\n",
    "axes[1].set_title('realtor')\n",
    "plt.show()"
   ]
  },
  {
   "cell_type": "markdown",
   "metadata": {},
   "source": [
    "## Price"
   ]
  },
  {
   "cell_type": "code",
   "execution_count": 30,
   "metadata": {},
   "outputs": [],
   "source": [
    "df_pg = df_p.groupby(by=['city','proptype']).median().reset_index()"
   ]
  },
  {
   "cell_type": "code",
   "execution_count": 31,
   "metadata": {},
   "outputs": [],
   "source": [
    "df_pg.columns = ['city','proptype','median_ask']"
   ]
  },
  {
   "cell_type": "code",
   "execution_count": 32,
   "metadata": {},
   "outputs": [
    {
     "data": {
      "text/html": [
       "<div>\n",
       "<style scoped>\n",
       "    .dataframe tbody tr th:only-of-type {\n",
       "        vertical-align: middle;\n",
       "    }\n",
       "\n",
       "    .dataframe tbody tr th {\n",
       "        vertical-align: top;\n",
       "    }\n",
       "\n",
       "    .dataframe thead th {\n",
       "        text-align: right;\n",
       "    }\n",
       "</style>\n",
       "<table border=\"1\" class=\"dataframe\">\n",
       "  <thead>\n",
       "    <tr style=\"text-align: right;\">\n",
       "      <th>city</th>\n",
       "      <th>Aurora</th>\n",
       "      <th>Burlington</th>\n",
       "      <th>Hamilton</th>\n",
       "      <th>Markham</th>\n",
       "      <th>Milton</th>\n",
       "      <th>Mississauga</th>\n",
       "      <th>Newmarket</th>\n",
       "      <th>Oakville</th>\n",
       "      <th>Oshawa</th>\n",
       "      <th>Pickering</th>\n",
       "      <th>Richmond Hill</th>\n",
       "      <th>Toronto</th>\n",
       "      <th>Vaughan</th>\n",
       "    </tr>\n",
       "    <tr>\n",
       "      <th>proptype</th>\n",
       "      <th></th>\n",
       "      <th></th>\n",
       "      <th></th>\n",
       "      <th></th>\n",
       "      <th></th>\n",
       "      <th></th>\n",
       "      <th></th>\n",
       "      <th></th>\n",
       "      <th></th>\n",
       "      <th></th>\n",
       "      <th></th>\n",
       "      <th></th>\n",
       "      <th></th>\n",
       "    </tr>\n",
       "  </thead>\n",
       "  <tbody>\n",
       "    <tr>\n",
       "      <th>Apartment</th>\n",
       "      <td>687,000</td>\n",
       "      <td>410,950</td>\n",
       "      <td>375,000</td>\n",
       "      <td>549,900</td>\n",
       "      <td>nan</td>\n",
       "      <td>464,950</td>\n",
       "      <td>nan</td>\n",
       "      <td>594,900</td>\n",
       "      <td>nan</td>\n",
       "      <td>nan</td>\n",
       "      <td>515,400</td>\n",
       "      <td>624,500</td>\n",
       "      <td>559,500</td>\n",
       "    </tr>\n",
       "    <tr>\n",
       "      <th>Bungalow</th>\n",
       "      <td>2,190,000</td>\n",
       "      <td>897,000</td>\n",
       "      <td>494,350</td>\n",
       "      <td>1,188,999</td>\n",
       "      <td>1,199,750</td>\n",
       "      <td>1,012,400</td>\n",
       "      <td>799,000</td>\n",
       "      <td>1,099,000</td>\n",
       "      <td>554,900</td>\n",
       "      <td>2,020,000</td>\n",
       "      <td>1,253,800</td>\n",
       "      <td>850,000</td>\n",
       "      <td>1,514,900</td>\n",
       "    </tr>\n",
       "    <tr>\n",
       "      <th>Detached</th>\n",
       "      <td>1,158,000</td>\n",
       "      <td>979,500</td>\n",
       "      <td>562,000</td>\n",
       "      <td>1,339,400</td>\n",
       "      <td>877,950</td>\n",
       "      <td>1,267,500</td>\n",
       "      <td>876,950</td>\n",
       "      <td>1,414,450</td>\n",
       "      <td>619,900</td>\n",
       "      <td>894,450</td>\n",
       "      <td>1,459,444</td>\n",
       "      <td>1,293,000</td>\n",
       "      <td>1,399,450</td>\n",
       "    </tr>\n",
       "    <tr>\n",
       "      <th>Loft</th>\n",
       "      <td>nan</td>\n",
       "      <td>nan</td>\n",
       "      <td>nan</td>\n",
       "      <td>nan</td>\n",
       "      <td>nan</td>\n",
       "      <td>nan</td>\n",
       "      <td>nan</td>\n",
       "      <td>nan</td>\n",
       "      <td>nan</td>\n",
       "      <td>nan</td>\n",
       "      <td>nan</td>\n",
       "      <td>796,000</td>\n",
       "      <td>nan</td>\n",
       "    </tr>\n",
       "    <tr>\n",
       "      <th>Semi-Detached</th>\n",
       "      <td>nan</td>\n",
       "      <td>nan</td>\n",
       "      <td>449,450</td>\n",
       "      <td>993,950</td>\n",
       "      <td>nan</td>\n",
       "      <td>772,450</td>\n",
       "      <td>nan</td>\n",
       "      <td>nan</td>\n",
       "      <td>624,450</td>\n",
       "      <td>nan</td>\n",
       "      <td>nan</td>\n",
       "      <td>899,900</td>\n",
       "      <td>864,450</td>\n",
       "    </tr>\n",
       "    <tr>\n",
       "      <th>Townhouse</th>\n",
       "      <td>790,500</td>\n",
       "      <td>599,994</td>\n",
       "      <td>517,450</td>\n",
       "      <td>799,000</td>\n",
       "      <td>599,950</td>\n",
       "      <td>666,950</td>\n",
       "      <td>722,445</td>\n",
       "      <td>789,000</td>\n",
       "      <td>459,450</td>\n",
       "      <td>519,939</td>\n",
       "      <td>876,400</td>\n",
       "      <td>704,500</td>\n",
       "      <td>859,000</td>\n",
       "    </tr>\n",
       "  </tbody>\n",
       "</table>\n",
       "</div>"
      ],
      "text/plain": [
       "city             Aurora  Burlington  Hamilton   Markham    Milton  \\\n",
       "proptype                                                            \n",
       "Apartment       687,000     410,950   375,000   549,900       nan   \n",
       "Bungalow      2,190,000     897,000   494,350 1,188,999 1,199,750   \n",
       "Detached      1,158,000     979,500   562,000 1,339,400   877,950   \n",
       "Loft                nan         nan       nan       nan       nan   \n",
       "Semi-Detached       nan         nan   449,450   993,950       nan   \n",
       "Townhouse       790,500     599,994   517,450   799,000   599,950   \n",
       "\n",
       "city           Mississauga  Newmarket  Oakville  Oshawa  Pickering  \\\n",
       "proptype                                                             \n",
       "Apartment          464,950        nan   594,900     nan        nan   \n",
       "Bungalow         1,012,400    799,000 1,099,000 554,900  2,020,000   \n",
       "Detached         1,267,500    876,950 1,414,450 619,900    894,450   \n",
       "Loft                   nan        nan       nan     nan        nan   \n",
       "Semi-Detached      772,450        nan       nan 624,450        nan   \n",
       "Townhouse          666,950    722,445   789,000 459,450    519,939   \n",
       "\n",
       "city           Richmond Hill   Toronto   Vaughan  \n",
       "proptype                                          \n",
       "Apartment            515,400   624,500   559,500  \n",
       "Bungalow           1,253,800   850,000 1,514,900  \n",
       "Detached           1,459,444 1,293,000 1,399,450  \n",
       "Loft                     nan   796,000       nan  \n",
       "Semi-Detached            nan   899,900   864,450  \n",
       "Townhouse            876,400   704,500   859,000  "
      ]
     },
     "execution_count": 32,
     "metadata": {},
     "output_type": "execute_result"
    }
   ],
   "source": [
    "df_ppivot = df_pg.pivot(index='proptype',columns='city',values='median_ask')\n",
    "df_ppivot"
   ]
  },
  {
   "cell_type": "code",
   "execution_count": 33,
   "metadata": {},
   "outputs": [
    {
     "data": {
      "image/png": "[encoded data removed]",
      "text/plain": [
       "<Figure size 864x432 with 2 Axes>"
      ]
     },
     "metadata": {
      "needs_background": "light"
     },
     "output_type": "display_data"
    }
   ],
   "source": [
    "fig, ax = plt.subplots(figsize=(12,6))\n",
    "sns_plot=sns.heatmap(data=df_ppivot,cmap=\"coolwarm\",center=df_ppivot.mean(axis=1).mean())"
   ]
  },
  {
   "cell_type": "code",
   "execution_count": 34,
   "metadata": {},
   "outputs": [
    {
     "data": {
      "text/plain": [
       "<matplotlib.axes._subplots.AxesSubplot at 0x2750d938ba8>"
      ]
     },
     "execution_count": 34,
     "metadata": {},
     "output_type": "execute_result"
    },
    {
     "data": {
      "image/png": "[encoded data removed]",
      "text/plain": [
       "<Figure size 1152x576 with 1 Axes>"
      ]
     },
     "metadata": {
      "needs_background": "light"
     },
     "output_type": "display_data"
    }
   ],
   "source": [
    "fig, ax = plt.subplots(figsize=(16,8))\n",
    "sns.barplot(data= df_ppivot.notnull())"
   ]
  }
 ],
 "metadata": {
  "kernelspec": {
   "display_name": "PyCharm (sentrendus)",
   "language": "python",
   "name": "pycharm-fb324cd2"
  },
  "language_info": {
   "codemirror_mode": {
    "name": "ipython",
    "version": 3
   },
   "file_extension": ".py",
   "mimetype": "text/x-python",
   "name": "python",
   "nbconvert_exporter": "python",
   "pygments_lexer": "ipython3",
   "version": "3.6.7"
  }
 },
 "nbformat": 4,
 "nbformat_minor": 2
}
